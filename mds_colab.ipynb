{
  "nbformat": 4,
  "nbformat_minor": 0,
  "metadata": {
    "colab": {
      "provenance": [],
      "authorship_tag": "ABX9TyP0mB887DtVKRXZSk2SUmdo",
      "include_colab_link": true
    },
    "kernelspec": {
      "name": "python3",
      "display_name": "Python 3"
    },
    "language_info": {
      "name": "python"
    }
  },
  "cells": [
    {
      "cell_type": "markdown",
      "metadata": {
        "id": "view-in-github",
        "colab_type": "text"
      },
      "source": [
        "<a href=\"https://colab.research.google.com/github/inefable12/dinamica_molecular_en_colab/blob/main/mds_colab.ipynb\" target=\"_parent\"><img src=\"https://colab.research.google.com/assets/colab-badge.svg\" alt=\"Open In Colab\"/></a>"
      ]
    },
    {
      "cell_type": "markdown",
      "source": [
        "$$\\Large \\textit{Mi Primera Dinámica Molecular}$$\n",
        "\n",
        "$$\\large\\textbf{Sesión Práctica N°4}$$\n",
        "$$\\textit{(C8987) Química Computacional y Simulaciones}$$"
      ],
      "metadata": {
        "id": "Iu0em_5nLPWm"
      }
    },
    {
      "cell_type": "markdown",
      "source": [
        "Autor: __Jesus Alvarado Huayhuaz__"
      ],
      "metadata": {
        "id": "nJsX6TvvMpYy"
      }
    },
    {
      "cell_type": "markdown",
      "source": [
        "En este colab, vamos a realizar la dinámica molecular de una molécula de dimetilsulfóxido en agua (solvente explícito). Todo el procedimiento puede realizarse desde este cuaderno de código y no es necesario instalar algún programa a tu computadora o descargar algún archivo extra. Este material está dirigido para iniciantes en Gromacs que no dispongan de una PC con sistema operativo Linux. Un material análogo para un sistema conformado por una molécula de etanol en solvente explícito acuoso puede ser revisado en el siguiente enlace:\n",
        "\n",
        "https://github.com/inefable12/0_MDS_etanol_colab"
      ],
      "metadata": {
        "id": "cNm9ZUlEsE4m"
      }
    },
    {
      "cell_type": "markdown",
      "source": [
        "# 1. Instalación"
      ],
      "metadata": {
        "id": "zOWNefR_MymG"
      }
    },
    {
      "cell_type": "code",
      "source": [
        "%%capture\n",
        "!apt install gromacs"
      ],
      "metadata": {
        "id": "Q-ThKWVtJ5lf"
      },
      "execution_count": 3,
      "outputs": []
    },
    {
      "cell_type": "code",
      "source": [
        "!gmx pdb2gmx --version"
      ],
      "metadata": {
        "colab": {
          "base_uri": "https://localhost:8080/"
        },
        "id": "PHA-qBRbKAdl",
        "outputId": "2fa684ad-c4ea-4546-8dec-60a72c3baa1d"
      },
      "execution_count": 4,
      "outputs": [
        {
          "output_type": "stream",
          "name": "stdout",
          "text": [
            "             :-) GROMACS - gmx pdb2gmx, 2021.4-Ubuntu-2021.4-2 (-:\n",
            "\n",
            "                            GROMACS is written by:\n",
            "     Andrey Alekseenko              Emile Apol              Rossen Apostolov     \n",
            "         Paul Bauer           Herman J.C. Berendsen           Par Bjelkmar       \n",
            "       Christian Blau           Viacheslav Bolnykh             Kevin Boyd        \n",
            "     Aldert van Buuren           Rudi van Drunen             Anton Feenstra      \n",
            "    Gilles Gouaillardet             Alan Gray               Gerrit Groenhof      \n",
            "       Anca Hamuraru            Vincent Hindriksen          M. Eric Irrgang      \n",
            "      Aleksei Iupinov           Christoph Junghans             Joe Jordan        \n",
            "    Dimitrios Karkoulis            Peter Kasson                Jiri Kraus        \n",
            "      Carsten Kutzner              Per Larsson              Justin A. Lemkul     \n",
            "       Viveca Lindahl            Magnus Lundborg             Erik Marklund       \n",
            "        Pascal Merz             Pieter Meulenhoff            Teemu Murtola       \n",
            "        Szilard Pall               Sander Pronk              Roland Schulz       \n",
            "       Michael Shirts            Alexey Shvetsov             Alfons Sijbers      \n",
            "       Peter Tieleman              Jon Vincent              Teemu Virolainen     \n",
            "     Christian Wennberg            Maarten Wolf              Artem Zhmurov       \n",
            "                           and the project leaders:\n",
            "        Mark Abraham, Berk Hess, Erik Lindahl, and David van der Spoel\n",
            "\n",
            "Copyright (c) 1991-2000, University of Groningen, The Netherlands.\n",
            "Copyright (c) 2001-2019, The GROMACS development team at\n",
            "Uppsala University, Stockholm University and\n",
            "the Royal Institute of Technology, Sweden.\n",
            "check out http://www.gromacs.org for more information.\n",
            "\n",
            "GROMACS is free software; you can redistribute it and/or modify it\n",
            "under the terms of the GNU Lesser General Public License\n",
            "as published by the Free Software Foundation; either version 2.1\n",
            "of the License, or (at your option) any later version.\n",
            "\n",
            "GROMACS:      gmx pdb2gmx, version 2021.4-Ubuntu-2021.4-2\n",
            "Executable:   /usr/bin/gmx\n",
            "Data prefix:  /usr\n",
            "Working dir:  /content\n",
            "Command line:\n",
            "  gmx pdb2gmx --version\n",
            "\n",
            "GROMACS version:    2021.4-Ubuntu-2021.4-2\n",
            "Precision:          mixed\n",
            "Memory model:       64 bit\n",
            "MPI library:        thread_mpi\n",
            "OpenMP support:     enabled (GMX_OPENMP_MAX_THREADS = 64)\n",
            "GPU support:        disabled\n",
            "SIMD instructions:  SSE4.1\n",
            "FFT library:        fftw-3.3.8-sse2-avx\n",
            "RDTSCP usage:       enabled\n",
            "TNG support:        enabled\n",
            "Hwloc support:      hwloc-2.5.0\n",
            "Tracing support:    disabled\n",
            "C compiler:         /usr/bin/cc GNU 11.2.0\n",
            "C compiler flags:   -msse4.1 -Wno-missing-field-initializers -fexcess-precision=fast -funroll-all-loops -O3 -DNDEBUG\n",
            "C++ compiler:       /usr/bin/c++ GNU 11.2.0\n",
            "C++ compiler flags: -msse4.1 -Wno-missing-field-initializers -fexcess-precision=fast -funroll-all-loops -fopenmp -O3 -DNDEBUG\n",
            "\n"
          ]
        }
      ]
    },
    {
      "cell_type": "markdown",
      "source": [
        "# 2. Archivos requeridos"
      ],
      "metadata": {
        "id": "YCCwKmdWNgx2"
      }
    },
    {
      "cell_type": "markdown",
      "source": [
        "Ligando dimetilsulfóxido (DMSO) en formato PDB"
      ],
      "metadata": {
        "id": "bBZAbGZ8NwXE"
      }
    },
    {
      "cell_type": "code",
      "source": [
        "!wget https://raw.githubusercontent.com/inefable12/dinamica_molecular_en_colab/main/DMSO.pdb"
      ],
      "metadata": {
        "colab": {
          "base_uri": "https://localhost:8080/"
        },
        "id": "0uBXDCtINj_3",
        "outputId": "fe3b20bf-68a5-4e27-e78a-4a5c742805ce"
      },
      "execution_count": 5,
      "outputs": [
        {
          "output_type": "stream",
          "name": "stdout",
          "text": [
            "--2024-04-29 23:35:10--  https://raw.githubusercontent.com/inefable12/dinamica_molecular_en_colab/main/DMSO.pdb\n",
            "Resolving raw.githubusercontent.com (raw.githubusercontent.com)... 185.199.108.133, 185.199.109.133, 185.199.110.133, ...\n",
            "Connecting to raw.githubusercontent.com (raw.githubusercontent.com)|185.199.108.133|:443... connected.\n",
            "HTTP request sent, awaiting response... 200 OK\n",
            "Length: 1579 (1.5K) [text/plain]\n",
            "Saving to: ‘DMSO.pdb’\n",
            "\n",
            "\rDMSO.pdb              0%[                    ]       0  --.-KB/s               \rDMSO.pdb            100%[===================>]   1.54K  --.-KB/s    in 0s      \n",
            "\n",
            "2024-04-29 23:35:10 (19.1 MB/s) - ‘DMSO.pdb’ saved [1579/1579]\n",
            "\n"
          ]
        }
      ]
    },
    {
      "cell_type": "markdown",
      "source": [
        "5 archivos mdp (parámetros de dinámica molecular)"
      ],
      "metadata": {
        "id": "GoLMlNw_N14z"
      }
    },
    {
      "cell_type": "code",
      "source": [
        "!wget https://raw.githubusercontent.com/inefable12/0_MDS_etanol_colab/main/ions.mdp https://raw.githubusercontent.com/inefable12/0_MDS_etanol_colab/main/npt.mdp https://raw.githubusercontent.com/inefable12/0_MDS_etanol_colab/main/nvt.mdp https://raw.githubusercontent.com/inefable12/0_MDS_etanol_colab/main/md.mdp https://raw.githubusercontent.com/inefable12/0_MDS_etanol_colab/main/minim.mdp"
      ],
      "metadata": {
        "colab": {
          "base_uri": "https://localhost:8080/"
        },
        "id": "qt5lCOfrNj80",
        "outputId": "92347bef-8414-4164-caef-bccf70699821"
      },
      "execution_count": 7,
      "outputs": [
        {
          "output_type": "stream",
          "name": "stdout",
          "text": [
            "--2024-04-29 23:39:46--  https://raw.githubusercontent.com/inefable12/0_MDS_etanol_colab/main/ions.mdp\n",
            "Resolving raw.githubusercontent.com (raw.githubusercontent.com)... 185.199.108.133, 185.199.109.133, 185.199.110.133, ...\n",
            "Connecting to raw.githubusercontent.com (raw.githubusercontent.com)|185.199.108.133|:443... connected.\n",
            "HTTP request sent, awaiting response... 200 OK\n",
            "Length: 1045 (1.0K) [text/plain]\n",
            "Saving to: ‘ions.mdp’\n",
            "\n",
            "\rions.mdp              0%[                    ]       0  --.-KB/s               \rions.mdp            100%[===================>]   1.02K  --.-KB/s    in 0s      \n",
            "\n",
            "2024-04-29 23:39:46 (40.9 MB/s) - ‘ions.mdp’ saved [1045/1045]\n",
            "\n",
            "--2024-04-29 23:39:46--  https://raw.githubusercontent.com/inefable12/0_MDS_etanol_colab/main/npt.mdp\n",
            "Reusing existing connection to raw.githubusercontent.com:443.\n",
            "HTTP request sent, awaiting response... 200 OK\n",
            "Length: 2602 (2.5K) [text/plain]\n",
            "Saving to: ‘npt.mdp’\n",
            "\n",
            "\rnpt.mdp               0%[                    ]       0  --.-KB/s               \rnpt.mdp             100%[===================>]   2.54K  --.-KB/s    in 0s      \n",
            "\n",
            "2024-04-29 23:39:46 (13.4 MB/s) - ‘npt.mdp’ saved [2602/2602]\n",
            "\n",
            "--2024-04-29 23:39:46--  https://raw.githubusercontent.com/inefable12/0_MDS_etanol_colab/main/nvt.mdp\n",
            "Reusing existing connection to raw.githubusercontent.com:443.\n",
            "HTTP request sent, awaiting response... 200 OK\n",
            "Length: 2373 (2.3K) [text/plain]\n",
            "Saving to: ‘nvt.mdp’\n",
            "\n",
            "\rnvt.mdp               0%[                    ]       0  --.-KB/s               \rnvt.mdp             100%[===================>]   2.32K  --.-KB/s    in 0s      \n",
            "\n",
            "2024-04-29 23:39:46 (32.6 MB/s) - ‘nvt.mdp’ saved [2373/2373]\n",
            "\n",
            "--2024-04-29 23:39:46--  https://raw.githubusercontent.com/inefable12/0_MDS_etanol_colab/main/md.mdp\n",
            "Reusing existing connection to raw.githubusercontent.com:443.\n",
            "HTTP request sent, awaiting response... 200 OK\n",
            "Length: 2745 (2.7K) [text/plain]\n",
            "Saving to: ‘md.mdp’\n",
            "\n",
            "\rmd.mdp                0%[                    ]       0  --.-KB/s               \rmd.mdp              100%[===================>]   2.68K  --.-KB/s    in 0s      \n",
            "\n",
            "2024-04-29 23:39:46 (41.4 MB/s) - ‘md.mdp’ saved [2745/2745]\n",
            "\n",
            "--2024-04-29 23:39:46--  https://raw.githubusercontent.com/inefable12/0_MDS_etanol_colab/main/minim.mdp\n",
            "Reusing existing connection to raw.githubusercontent.com:443.\n",
            "HTTP request sent, awaiting response... 200 OK\n",
            "Length: 1045 (1.0K) [text/plain]\n",
            "Saving to: ‘minim.mdp’\n",
            "\n",
            "\rminim.mdp             0%[                    ]       0  --.-KB/s               \rminim.mdp           100%[===================>]   1.02K  --.-KB/s    in 0s      \n",
            "\n",
            "2024-04-29 23:39:46 (53.2 MB/s) - ‘minim.mdp’ saved [1045/1045]\n",
            "\n",
            "FINISHED --2024-04-29 23:39:46--\n",
            "Total wall clock time: 0.2s\n",
            "Downloaded: 5 files, 9.6K in 0s (25.9 MB/s)\n"
          ]
        }
      ]
    },
    {
      "cell_type": "markdown",
      "source": [
        "# 3. Inicio"
      ],
      "metadata": {
        "id": "eKDSa78EPMqf"
      }
    },
    {
      "cell_type": "code",
      "source": [
        "import time\n",
        "inicio = time.time()\n",
        "\n",
        "fin = time.time()\n",
        "tiempo_transcurrido = fin - inicio\n",
        "print(\"Tiempo transcurrido:\", tiempo_transcurrido, \"segundos\")"
      ],
      "metadata": {
        "id": "vfekk8egQJYP"
      },
      "execution_count": null,
      "outputs": []
    },
    {
      "cell_type": "code",
      "source": [
        "!gmx pdb2gmx -f DMSO.pdb -o dmso.gro -water tip5p -ff oplsaa"
      ],
      "metadata": {
        "colab": {
          "base_uri": "https://localhost:8080/"
        },
        "id": "vuDSgq0jNj6N",
        "outputId": "9d87857d-3fde-4a62-abc9-7365b943cbe2"
      },
      "execution_count": 12,
      "outputs": [
        {
          "output_type": "stream",
          "name": "stdout",
          "text": [
            "             :-) GROMACS - gmx pdb2gmx, 2021.4-Ubuntu-2021.4-2 (-:\n",
            "\n",
            "                            GROMACS is written by:\n",
            "     Andrey Alekseenko              Emile Apol              Rossen Apostolov     \n",
            "         Paul Bauer           Herman J.C. Berendsen           Par Bjelkmar       \n",
            "       Christian Blau           Viacheslav Bolnykh             Kevin Boyd        \n",
            "     Aldert van Buuren           Rudi van Drunen             Anton Feenstra      \n",
            "    Gilles Gouaillardet             Alan Gray               Gerrit Groenhof      \n",
            "       Anca Hamuraru            Vincent Hindriksen          M. Eric Irrgang      \n",
            "      Aleksei Iupinov           Christoph Junghans             Joe Jordan        \n",
            "    Dimitrios Karkoulis            Peter Kasson                Jiri Kraus        \n",
            "      Carsten Kutzner              Per Larsson              Justin A. Lemkul     \n",
            "       Viveca Lindahl            Magnus Lundborg             Erik Marklund       \n",
            "        Pascal Merz             Pieter Meulenhoff            Teemu Murtola       \n",
            "        Szilard Pall               Sander Pronk              Roland Schulz       \n",
            "       Michael Shirts            Alexey Shvetsov             Alfons Sijbers      \n",
            "       Peter Tieleman              Jon Vincent              Teemu Virolainen     \n",
            "     Christian Wennberg            Maarten Wolf              Artem Zhmurov       \n",
            "                           and the project leaders:\n",
            "        Mark Abraham, Berk Hess, Erik Lindahl, and David van der Spoel\n",
            "\n",
            "Copyright (c) 1991-2000, University of Groningen, The Netherlands.\n",
            "Copyright (c) 2001-2019, The GROMACS development team at\n",
            "Uppsala University, Stockholm University and\n",
            "the Royal Institute of Technology, Sweden.\n",
            "check out http://www.gromacs.org for more information.\n",
            "\n",
            "GROMACS is free software; you can redistribute it and/or modify it\n",
            "under the terms of the GNU Lesser General Public License\n",
            "as published by the Free Software Foundation; either version 2.1\n",
            "of the License, or (at your option) any later version.\n",
            "\n",
            "GROMACS:      gmx pdb2gmx, version 2021.4-Ubuntu-2021.4-2\n",
            "Executable:   /usr/bin/gmx\n",
            "Data prefix:  /usr\n",
            "Working dir:  /content\n",
            "Command line:\n",
            "  gmx pdb2gmx -f DMSO.pdb -o dmso.gro -water tip5p -ff oplsaa\n",
            "\n",
            "Using the Oplsaa force field in directory oplsaa.ff\n",
            "\n",
            "going to rename oplsaa.ff/aminoacids.r2b\n",
            "Opening force field file /usr/share/gromacs/top/oplsaa.ff/aminoacids.r2b\n",
            "Reading DMSO.pdb...\n",
            "WARNING: all CONECT records are ignored\n",
            "Read 'DMSO', 10 atoms\n",
            "\n",
            "Analyzing pdb file\n",
            "Splitting chemical chains based on TER records or chain id changing.\n",
            "\n",
            "There are 1 chains and 0 blocks of water and 1 residues with 10 atoms\n",
            "\n",
            "  chain  #res #atoms\n",
            "\n",
            "  1 ' '     1     10  \n",
            "\n",
            "All occupancies are one\n",
            "All occupancies are one\n",
            "Opening force field file /usr/share/gromacs/top/oplsaa.ff/atomtypes.atp\n",
            "\n",
            "Reading residue database... (Oplsaa)\n",
            "Opening force field file /usr/share/gromacs/top/oplsaa.ff/aminoacids.rtp\n",
            "Opening force field file /usr/share/gromacs/top/oplsaa.ff/aminoacids.hdb\n",
            "Opening force field file /usr/share/gromacs/top/oplsaa.ff/aminoacids.n.tdb\n",
            "Opening force field file /usr/share/gromacs/top/oplsaa.ff/aminoacids.c.tdb\n",
            "\n",
            "Back Off! I just backed up topol.top to ./#topol.top.2#\n",
            "\n",
            "Processing chain 1 (10 atoms, 1 residues)\n",
            "\n",
            "Problem with chain definition, or missing terminal residues. This chain does not appear to contain a recognized chain molecule. If this is incorrect, you can edit residuetypes.dat to modify the behavior.\n",
            "8 out of 8 lines of specbond.dat converted successfully\n",
            "\n",
            "Checking for duplicate atoms....\n",
            "\n",
            "Generating any missing hydrogen atoms and/or adding termini.\n",
            "\n",
            "Now there are 1 residues with 10 atoms\n",
            "\n",
            "Making bonds...\n",
            "\n",
            "Number of bonds was 9, now 9\n",
            "\n",
            "Generating angles, dihedrals and pairs...\n",
            "Before cleaning: 12 pairs\n",
            "Before cleaning: 12 dihedrals\n",
            "Keeping all generated dihedrals\n",
            "\n",
            "Making cmap torsions...\n",
            "\n",
            "There are   12 dihedrals,    0 impropers,   15 angles\n",
            "            12 pairs,        9 bonds and     0 virtual sites\n",
            "\n",
            "Total mass 78.129 a.m.u.\n",
            "\n",
            "Total charge 0.000 e\n",
            "\n",
            "Writing topology\n",
            "\n",
            "Back Off! I just backed up posre.itp to ./#posre.itp.2#\n",
            "\n",
            "Writing coordinate file...\n",
            "\n",
            "Back Off! I just backed up dmso.gro to ./#dmso.gro.2#\n",
            "\n",
            "\t\t--------- PLEASE NOTE ------------\n",
            "\n",
            "You have successfully generated a topology from: DMSO.pdb.\n",
            "\n",
            "The Oplsaa force field and the tip5p water model are used.\n",
            "\n",
            "\t\t--------- ETON ESAELP ------------\n",
            "\n",
            "GROMACS reminds you: \"Remember, being healthy is basically dying as slowly as possible.\" (Ricky Gervais)\n",
            "\n"
          ]
        }
      ]
    },
    {
      "cell_type": "markdown",
      "source": [
        "# 4. Caja de Agua"
      ],
      "metadata": {
        "id": "H3P9esAqj6Ss"
      }
    },
    {
      "cell_type": "code",
      "source": [
        "!gmx editconf -f dmso.gro -o newbox.gro -d 1.0 -bt cubic"
      ],
      "metadata": {
        "colab": {
          "base_uri": "https://localhost:8080/"
        },
        "id": "G6a1ohglOsvw",
        "outputId": "e67e07a2-af25-400f-db90-030150cea180"
      },
      "execution_count": 13,
      "outputs": [
        {
          "output_type": "stream",
          "name": "stdout",
          "text": [
            "             :-) GROMACS - gmx editconf, 2021.4-Ubuntu-2021.4-2 (-:\n",
            "\n",
            "                            GROMACS is written by:\n",
            "     Andrey Alekseenko              Emile Apol              Rossen Apostolov     \n",
            "         Paul Bauer           Herman J.C. Berendsen           Par Bjelkmar       \n",
            "       Christian Blau           Viacheslav Bolnykh             Kevin Boyd        \n",
            "     Aldert van Buuren           Rudi van Drunen             Anton Feenstra      \n",
            "    Gilles Gouaillardet             Alan Gray               Gerrit Groenhof      \n",
            "       Anca Hamuraru            Vincent Hindriksen          M. Eric Irrgang      \n",
            "      Aleksei Iupinov           Christoph Junghans             Joe Jordan        \n",
            "    Dimitrios Karkoulis            Peter Kasson                Jiri Kraus        \n",
            "      Carsten Kutzner              Per Larsson              Justin A. Lemkul     \n",
            "       Viveca Lindahl            Magnus Lundborg             Erik Marklund       \n",
            "        Pascal Merz             Pieter Meulenhoff            Teemu Murtola       \n",
            "        Szilard Pall               Sander Pronk              Roland Schulz       \n",
            "       Michael Shirts            Alexey Shvetsov             Alfons Sijbers      \n",
            "       Peter Tieleman              Jon Vincent              Teemu Virolainen     \n",
            "     Christian Wennberg            Maarten Wolf              Artem Zhmurov       \n",
            "                           and the project leaders:\n",
            "        Mark Abraham, Berk Hess, Erik Lindahl, and David van der Spoel\n",
            "\n",
            "Copyright (c) 1991-2000, University of Groningen, The Netherlands.\n",
            "Copyright (c) 2001-2019, The GROMACS development team at\n",
            "Uppsala University, Stockholm University and\n",
            "the Royal Institute of Technology, Sweden.\n",
            "check out http://www.gromacs.org for more information.\n",
            "\n",
            "GROMACS is free software; you can redistribute it and/or modify it\n",
            "under the terms of the GNU Lesser General Public License\n",
            "as published by the Free Software Foundation; either version 2.1\n",
            "of the License, or (at your option) any later version.\n",
            "\n",
            "GROMACS:      gmx editconf, version 2021.4-Ubuntu-2021.4-2\n",
            "Executable:   /usr/bin/gmx\n",
            "Data prefix:  /usr\n",
            "Working dir:  /content\n",
            "Command line:\n",
            "  gmx editconf -f dmso.gro -o newbox.gro -d 1.0 -bt cubic\n",
            "\n",
            "Note that major changes are planned in future for editconf, to improve usability and utility.\n",
            "Read 10 atoms\n",
            "Volume: 0.0306428 nm^3, corresponds to roughly 0 electrons\n",
            "No velocities found\n",
            "    system size :  0.349  0.443  0.198 (nm)\n",
            "    diameter    :  0.456               (nm)\n",
            "    center      :  6.130  5.900  3.920 (nm)\n",
            "    box vectors :  0.349  0.444  0.198 (nm)\n",
            "    box angles  :  90.00  90.00  90.00 (degrees)\n",
            "    box volume  :   0.03               (nm^3)\n",
            "    shift       : -4.902 -4.672 -2.692 (nm)\n",
            "new center      :  1.228  1.228  1.228 (nm)\n",
            "new box vectors :  2.456  2.456  2.456 (nm)\n",
            "new box angles  :  90.00  90.00  90.00 (degrees)\n",
            "new box volume  :  14.81               (nm^3)\n",
            "\n",
            "GROMACS reminds you: \"I'd Be Water If I Could\" (Red Hot Chili Peppers)\n",
            "\n"
          ]
        }
      ]
    },
    {
      "cell_type": "code",
      "source": [
        "!gmx solvate -cp newbox.gro -cs tip5p.gro -o solv.gro -p topol.top"
      ],
      "metadata": {
        "colab": {
          "base_uri": "https://localhost:8080/"
        },
        "id": "xiHazZ4ykHtz",
        "outputId": "6397651e-8b1b-4095-ec21-35497adef7d6"
      },
      "execution_count": 14,
      "outputs": [
        {
          "output_type": "stream",
          "name": "stdout",
          "text": [
            "             :-) GROMACS - gmx solvate, 2021.4-Ubuntu-2021.4-2 (-:\n",
            "\n",
            "                            GROMACS is written by:\n",
            "     Andrey Alekseenko              Emile Apol              Rossen Apostolov     \n",
            "         Paul Bauer           Herman J.C. Berendsen           Par Bjelkmar       \n",
            "       Christian Blau           Viacheslav Bolnykh             Kevin Boyd        \n",
            "     Aldert van Buuren           Rudi van Drunen             Anton Feenstra      \n",
            "    Gilles Gouaillardet             Alan Gray               Gerrit Groenhof      \n",
            "       Anca Hamuraru            Vincent Hindriksen          M. Eric Irrgang      \n",
            "      Aleksei Iupinov           Christoph Junghans             Joe Jordan        \n",
            "    Dimitrios Karkoulis            Peter Kasson                Jiri Kraus        \n",
            "      Carsten Kutzner              Per Larsson              Justin A. Lemkul     \n",
            "       Viveca Lindahl            Magnus Lundborg             Erik Marklund       \n",
            "        Pascal Merz             Pieter Meulenhoff            Teemu Murtola       \n",
            "        Szilard Pall               Sander Pronk              Roland Schulz       \n",
            "       Michael Shirts            Alexey Shvetsov             Alfons Sijbers      \n",
            "       Peter Tieleman              Jon Vincent              Teemu Virolainen     \n",
            "     Christian Wennberg            Maarten Wolf              Artem Zhmurov       \n",
            "                           and the project leaders:\n",
            "        Mark Abraham, Berk Hess, Erik Lindahl, and David van der Spoel\n",
            "\n",
            "Copyright (c) 1991-2000, University of Groningen, The Netherlands.\n",
            "Copyright (c) 2001-2019, The GROMACS development team at\n",
            "Uppsala University, Stockholm University and\n",
            "the Royal Institute of Technology, Sweden.\n",
            "check out http://www.gromacs.org for more information.\n",
            "\n",
            "GROMACS is free software; you can redistribute it and/or modify it\n",
            "under the terms of the GNU Lesser General Public License\n",
            "as published by the Free Software Foundation; either version 2.1\n",
            "of the License, or (at your option) any later version.\n",
            "\n",
            "GROMACS:      gmx solvate, version 2021.4-Ubuntu-2021.4-2\n",
            "Executable:   /usr/bin/gmx\n",
            "Data prefix:  /usr\n",
            "Working dir:  /content\n",
            "Command line:\n",
            "  gmx solvate -cp newbox.gro -cs tip5p.gro -o solv.gro -p topol.top\n",
            "\n",
            "Reading solute configuration\n",
            "Reading solvent configuration\n",
            "\n",
            "Initialising inter-atomic distances...\n",
            "\n",
            "WARNING: Masses and atomic (Van der Waals) radii will be guessed\n",
            "         based on residue and atom names, since they could not be\n",
            "         definitively assigned from the information in your input\n",
            "         files. These guessed numbers might deviate from the mass\n",
            "         and radius of the atom type. Please check the output\n",
            "         files if necessary.\n",
            "\n",
            "NOTE: From version 5.0 gmx solvate uses the Van der Waals radii\n",
            "from the source below. This means the results may be different\n",
            "compared to previous GROMACS versions.\n",
            "\n",
            "++++ PLEASE READ AND CITE THE FOLLOWING REFERENCE ++++\n",
            "A. Bondi\n",
            "van der Waals Volumes and Radii\n",
            "J. Phys. Chem. 68 (1964) pp. 441-451\n",
            "-------- -------- --- Thank You --- -------- --------\n",
            "\n",
            "Generating solvent configuration\n",
            "Will generate new solvent configuration of 1x1x1 boxes\n",
            "Solvent box contains 2560 atoms in 512 residues\n",
            "Removed 210 solvent atoms due to solvent-solvent overlap\n",
            "Removed 15 solvent atoms due to solute-solvent overlap\n",
            "Sorting configuration\n",
            "Found 1 molecule type:\n",
            "    SOL (   5 atoms):   467 residues\n",
            "Generated solvent containing 2335 atoms in 467 residues\n",
            "Writing generated configuration to solv.gro\n",
            "\n",
            "Output configuration contains 2345 atoms in 468 residues\n",
            "Volume                 :     14.8059 (nm^3)\n",
            "Density                :     953.011 (g/l)\n",
            "Number of solvent molecules:    467   \n",
            "\n",
            "Processing topology\n",
            "Adding line for 467 solvent molecules with resname (SOL) to topology file (topol.top)\n",
            "\n",
            "Back Off! I just backed up topol.top to ./#topol.top.3#\n",
            "\n",
            "GROMACS reminds you: \"Be less curious about people and more curious about ideas.\" (Marie Curie)\n",
            "\n"
          ]
        }
      ]
    },
    {
      "cell_type": "markdown",
      "source": [
        "# 5. Iones"
      ],
      "metadata": {
        "id": "6Ks95AgHkO5p"
      }
    },
    {
      "cell_type": "code",
      "source": [
        "!gmx grompp -f ions.mdp -c solv.gro -p topol.top -o ions.tpr"
      ],
      "metadata": {
        "colab": {
          "base_uri": "https://localhost:8080/"
        },
        "id": "sqfr_2sfkHqi",
        "outputId": "1a7c49fc-4d2c-4cca-fe57-49931f27a099"
      },
      "execution_count": 15,
      "outputs": [
        {
          "output_type": "stream",
          "name": "stdout",
          "text": [
            "              :-) GROMACS - gmx grompp, 2021.4-Ubuntu-2021.4-2 (-:\n",
            "\n",
            "                            GROMACS is written by:\n",
            "     Andrey Alekseenko              Emile Apol              Rossen Apostolov     \n",
            "         Paul Bauer           Herman J.C. Berendsen           Par Bjelkmar       \n",
            "       Christian Blau           Viacheslav Bolnykh             Kevin Boyd        \n",
            "     Aldert van Buuren           Rudi van Drunen             Anton Feenstra      \n",
            "    Gilles Gouaillardet             Alan Gray               Gerrit Groenhof      \n",
            "       Anca Hamuraru            Vincent Hindriksen          M. Eric Irrgang      \n",
            "      Aleksei Iupinov           Christoph Junghans             Joe Jordan        \n",
            "    Dimitrios Karkoulis            Peter Kasson                Jiri Kraus        \n",
            "      Carsten Kutzner              Per Larsson              Justin A. Lemkul     \n",
            "       Viveca Lindahl            Magnus Lundborg             Erik Marklund       \n",
            "        Pascal Merz             Pieter Meulenhoff            Teemu Murtola       \n",
            "        Szilard Pall               Sander Pronk              Roland Schulz       \n",
            "       Michael Shirts            Alexey Shvetsov             Alfons Sijbers      \n",
            "       Peter Tieleman              Jon Vincent              Teemu Virolainen     \n",
            "     Christian Wennberg            Maarten Wolf              Artem Zhmurov       \n",
            "                           and the project leaders:\n",
            "        Mark Abraham, Berk Hess, Erik Lindahl, and David van der Spoel\n",
            "\n",
            "Copyright (c) 1991-2000, University of Groningen, The Netherlands.\n",
            "Copyright (c) 2001-2019, The GROMACS development team at\n",
            "Uppsala University, Stockholm University and\n",
            "the Royal Institute of Technology, Sweden.\n",
            "check out http://www.gromacs.org for more information.\n",
            "\n",
            "GROMACS is free software; you can redistribute it and/or modify it\n",
            "under the terms of the GNU Lesser General Public License\n",
            "as published by the Free Software Foundation; either version 2.1\n",
            "of the License, or (at your option) any later version.\n",
            "\n",
            "GROMACS:      gmx grompp, version 2021.4-Ubuntu-2021.4-2\n",
            "Executable:   /usr/bin/gmx\n",
            "Data prefix:  /usr\n",
            "Working dir:  /content\n",
            "Command line:\n",
            "  gmx grompp -f ions.mdp -c solv.gro -p topol.top -o ions.tpr\n",
            "\n",
            "Ignoring obsolete mdp entry 'ns_type'\n",
            "\n",
            "NOTE 1 [file ions.mdp]:\n",
            "  With Verlet lists the optimal nstlist is >= 10, with GPUs >= 20. Note\n",
            "  that with the Verlet scheme, nstlist has no effect on the accuracy of\n",
            "  your simulation.\n",
            "\n",
            "Setting the LD random seed to 2130702271\n",
            "\n",
            "Generated 330891 of the 330891 non-bonded parameter combinations\n",
            "Generating 1-4 interactions: fudge = 0.5\n",
            "\n",
            "Generated 330891 of the 330891 1-4 parameter combinations\n",
            "\n",
            "Excluding 3 bonded neighbours molecule type 'Other'\n",
            "\n",
            "Excluding 2 bonded neighbours molecule type 'SOL'\n",
            "\n",
            "Cleaning up constraints and constant bonded interactions with virtual sites\n",
            "Analysing residue names:\n",
            "There are:     1      Other residues\n",
            "There are:   467      Water residues\n",
            "Analysing residues not classified as Protein/DNA/RNA/Water and splitting into groups...\n",
            "Number of degrees of freedom in T-Coupling group rest is 2829.00\n",
            "\n",
            "NOTE 2 [file ions.mdp]:\n",
            "  You are using a plain Coulomb cut-off, which might produce artifacts.\n",
            "  You might want to consider using PME electrostatics.\n",
            "\n",
            "\n",
            "\n",
            "This run will generate roughly 0 Mb of data\n",
            "\n",
            "There were 2 notes\n",
            "\n",
            "GROMACS reminds you: \"When using an abacus, a human can achieve about 0.1 flops/watt. Super-computers achieve about 2 gigaflops/watt.\" (John Linford)\n",
            "\n"
          ]
        }
      ]
    },
    {
      "cell_type": "code",
      "source": [
        "!gmx genion -s ions.tpr -o solv_ions.gro -p topol.top -pname NA -nname CL -neutral"
      ],
      "metadata": {
        "colab": {
          "base_uri": "https://localhost:8080/"
        },
        "id": "Rq6rBKX0kHoE",
        "outputId": "e1259236-0373-4359-c6e7-d7c83b3ab9b0"
      },
      "execution_count": 16,
      "outputs": [
        {
          "output_type": "stream",
          "name": "stdout",
          "text": [
            "              :-) GROMACS - gmx genion, 2021.4-Ubuntu-2021.4-2 (-:\n",
            "\n",
            "                            GROMACS is written by:\n",
            "     Andrey Alekseenko              Emile Apol              Rossen Apostolov     \n",
            "         Paul Bauer           Herman J.C. Berendsen           Par Bjelkmar       \n",
            "       Christian Blau           Viacheslav Bolnykh             Kevin Boyd        \n",
            "     Aldert van Buuren           Rudi van Drunen             Anton Feenstra      \n",
            "    Gilles Gouaillardet             Alan Gray               Gerrit Groenhof      \n",
            "       Anca Hamuraru            Vincent Hindriksen          M. Eric Irrgang      \n",
            "      Aleksei Iupinov           Christoph Junghans             Joe Jordan        \n",
            "    Dimitrios Karkoulis            Peter Kasson                Jiri Kraus        \n",
            "      Carsten Kutzner              Per Larsson              Justin A. Lemkul     \n",
            "       Viveca Lindahl            Magnus Lundborg             Erik Marklund       \n",
            "        Pascal Merz             Pieter Meulenhoff            Teemu Murtola       \n",
            "        Szilard Pall               Sander Pronk              Roland Schulz       \n",
            "       Michael Shirts            Alexey Shvetsov             Alfons Sijbers      \n",
            "       Peter Tieleman              Jon Vincent              Teemu Virolainen     \n",
            "     Christian Wennberg            Maarten Wolf              Artem Zhmurov       \n",
            "                           and the project leaders:\n",
            "        Mark Abraham, Berk Hess, Erik Lindahl, and David van der Spoel\n",
            "\n",
            "Copyright (c) 1991-2000, University of Groningen, The Netherlands.\n",
            "Copyright (c) 2001-2019, The GROMACS development team at\n",
            "Uppsala University, Stockholm University and\n",
            "the Royal Institute of Technology, Sweden.\n",
            "check out http://www.gromacs.org for more information.\n",
            "\n",
            "GROMACS is free software; you can redistribute it and/or modify it\n",
            "under the terms of the GNU Lesser General Public License\n",
            "as published by the Free Software Foundation; either version 2.1\n",
            "of the License, or (at your option) any later version.\n",
            "\n",
            "GROMACS:      gmx genion, version 2021.4-Ubuntu-2021.4-2\n",
            "Executable:   /usr/bin/gmx\n",
            "Data prefix:  /usr\n",
            "Working dir:  /content\n",
            "Command line:\n",
            "  gmx genion -s ions.tpr -o solv_ions.gro -p topol.top -pname NA -nname CL -neutral\n",
            "\n",
            "Reading file ions.tpr, VERSION 2021.4-Ubuntu-2021.4-2 (single precision)\n",
            "Reading file ions.tpr, VERSION 2021.4-Ubuntu-2021.4-2 (single precision)\n",
            "No ions to add, will just copy input configuration.\n",
            "\n",
            "GROMACS reminds you: \"If all it takes to motivate you is a fancy picture and quote, you probably have a very easy job. The type of job computers will soon be doing.\" (Anonymous)\n",
            "\n"
          ]
        }
      ]
    },
    {
      "cell_type": "markdown",
      "source": [
        "# 6. Minimización"
      ],
      "metadata": {
        "id": "1mTAshe3kdS-"
      }
    },
    {
      "cell_type": "code",
      "source": [
        "!gmx grompp -f minim.mdp -c solv_ions.gro -p topol.top -o em.tpr"
      ],
      "metadata": {
        "colab": {
          "base_uri": "https://localhost:8080/"
        },
        "id": "wPxXdFiOOsqk",
        "outputId": "49edf92c-a5ac-409e-8b98-710342c31478"
      },
      "execution_count": 17,
      "outputs": [
        {
          "output_type": "stream",
          "name": "stdout",
          "text": [
            "              :-) GROMACS - gmx grompp, 2021.4-Ubuntu-2021.4-2 (-:\n",
            "\n",
            "                            GROMACS is written by:\n",
            "     Andrey Alekseenko              Emile Apol              Rossen Apostolov     \n",
            "         Paul Bauer           Herman J.C. Berendsen           Par Bjelkmar       \n",
            "       Christian Blau           Viacheslav Bolnykh             Kevin Boyd        \n",
            "     Aldert van Buuren           Rudi van Drunen             Anton Feenstra      \n",
            "    Gilles Gouaillardet             Alan Gray               Gerrit Groenhof      \n",
            "       Anca Hamuraru            Vincent Hindriksen          M. Eric Irrgang      \n",
            "      Aleksei Iupinov           Christoph Junghans             Joe Jordan        \n",
            "    Dimitrios Karkoulis            Peter Kasson                Jiri Kraus        \n",
            "      Carsten Kutzner              Per Larsson              Justin A. Lemkul     \n",
            "       Viveca Lindahl            Magnus Lundborg             Erik Marklund       \n",
            "        Pascal Merz             Pieter Meulenhoff            Teemu Murtola       \n",
            "        Szilard Pall               Sander Pronk              Roland Schulz       \n",
            "       Michael Shirts            Alexey Shvetsov             Alfons Sijbers      \n",
            "       Peter Tieleman              Jon Vincent              Teemu Virolainen     \n",
            "     Christian Wennberg            Maarten Wolf              Artem Zhmurov       \n",
            "                           and the project leaders:\n",
            "        Mark Abraham, Berk Hess, Erik Lindahl, and David van der Spoel\n",
            "\n",
            "Copyright (c) 1991-2000, University of Groningen, The Netherlands.\n",
            "Copyright (c) 2001-2019, The GROMACS development team at\n",
            "Uppsala University, Stockholm University and\n",
            "the Royal Institute of Technology, Sweden.\n",
            "check out http://www.gromacs.org for more information.\n",
            "\n",
            "GROMACS is free software; you can redistribute it and/or modify it\n",
            "under the terms of the GNU Lesser General Public License\n",
            "as published by the Free Software Foundation; either version 2.1\n",
            "of the License, or (at your option) any later version.\n",
            "\n",
            "GROMACS:      gmx grompp, version 2021.4-Ubuntu-2021.4-2\n",
            "Executable:   /usr/bin/gmx\n",
            "Data prefix:  /usr\n",
            "Working dir:  /content\n",
            "Command line:\n",
            "  gmx grompp -f minim.mdp -c solv_ions.gro -p topol.top -o em.tpr\n",
            "\n",
            "Ignoring obsolete mdp entry 'ns_type'\n",
            "\n",
            "NOTE 1 [file minim.mdp]:\n",
            "  With Verlet lists the optimal nstlist is >= 10, with GPUs >= 20. Note\n",
            "  that with the Verlet scheme, nstlist has no effect on the accuracy of\n",
            "  your simulation.\n",
            "\n",
            "Setting the LD random seed to -688040481\n",
            "\n",
            "Generated 330891 of the 330891 non-bonded parameter combinations\n",
            "Generating 1-4 interactions: fudge = 0.5\n",
            "\n",
            "Generated 330891 of the 330891 1-4 parameter combinations\n",
            "\n",
            "Excluding 3 bonded neighbours molecule type 'Other'\n",
            "\n",
            "Excluding 2 bonded neighbours molecule type 'SOL'\n",
            "\n",
            "Cleaning up constraints and constant bonded interactions with virtual sites\n",
            "Analysing residue names:\n",
            "There are:     1      Other residues\n",
            "There are:   467      Water residues\n",
            "Analysing residues not classified as Protein/DNA/RNA/Water and splitting into groups...\n",
            "Number of degrees of freedom in T-Coupling group rest is 2829.00\n",
            "Calculating fourier grid dimensions for X Y Z\n",
            "Using a fourier grid of 24x24x24, spacing 0.102 0.102 0.102\n",
            "\n",
            "Estimate for the relative computational load of the PME mesh part: 0.12\n",
            "\n",
            "This run will generate roughly 0 Mb of data\n",
            "\n",
            "There was 1 note\n",
            "\n",
            "GROMACS reminds you: \"I believe in miracles cause I'm one\" (The Ramones)\n",
            "\n"
          ]
        }
      ]
    },
    {
      "cell_type": "code",
      "source": [
        "!gmx mdrun -v -deffnm em"
      ],
      "metadata": {
        "colab": {
          "base_uri": "https://localhost:8080/"
        },
        "id": "_X3IzzAIOsn7",
        "outputId": "59056dd3-6145-4079-f19d-67f86c78145c"
      },
      "execution_count": 18,
      "outputs": [
        {
          "output_type": "stream",
          "name": "stdout",
          "text": [
            "              :-) GROMACS - gmx mdrun, 2021.4-Ubuntu-2021.4-2 (-:\n",
            "\n",
            "                            GROMACS is written by:\n",
            "     Andrey Alekseenko              Emile Apol              Rossen Apostolov     \n",
            "         Paul Bauer           Herman J.C. Berendsen           Par Bjelkmar       \n",
            "       Christian Blau           Viacheslav Bolnykh             Kevin Boyd        \n",
            "     Aldert van Buuren           Rudi van Drunen             Anton Feenstra      \n",
            "    Gilles Gouaillardet             Alan Gray               Gerrit Groenhof      \n",
            "       Anca Hamuraru            Vincent Hindriksen          M. Eric Irrgang      \n",
            "      Aleksei Iupinov           Christoph Junghans             Joe Jordan        \n",
            "    Dimitrios Karkoulis            Peter Kasson                Jiri Kraus        \n",
            "      Carsten Kutzner              Per Larsson              Justin A. Lemkul     \n",
            "       Viveca Lindahl            Magnus Lundborg             Erik Marklund       \n",
            "        Pascal Merz             Pieter Meulenhoff            Teemu Murtola       \n",
            "        Szilard Pall               Sander Pronk              Roland Schulz       \n",
            "       Michael Shirts            Alexey Shvetsov             Alfons Sijbers      \n",
            "       Peter Tieleman              Jon Vincent              Teemu Virolainen     \n",
            "     Christian Wennberg            Maarten Wolf              Artem Zhmurov       \n",
            "                           and the project leaders:\n",
            "        Mark Abraham, Berk Hess, Erik Lindahl, and David van der Spoel\n",
            "\n",
            "Copyright (c) 1991-2000, University of Groningen, The Netherlands.\n",
            "Copyright (c) 2001-2019, The GROMACS development team at\n",
            "Uppsala University, Stockholm University and\n",
            "the Royal Institute of Technology, Sweden.\n",
            "check out http://www.gromacs.org for more information.\n",
            "\n",
            "GROMACS is free software; you can redistribute it and/or modify it\n",
            "under the terms of the GNU Lesser General Public License\n",
            "as published by the Free Software Foundation; either version 2.1\n",
            "of the License, or (at your option) any later version.\n",
            "\n",
            "GROMACS:      gmx mdrun, version 2021.4-Ubuntu-2021.4-2\n",
            "Executable:   /usr/bin/gmx\n",
            "Data prefix:  /usr\n",
            "Working dir:  /content\n",
            "Command line:\n",
            "  gmx mdrun -v -deffnm em\n",
            "\n",
            "Compiled SIMD: SSE4.1, but for this host/run AVX2_256 might be better (see\n",
            "log).\n",
            "Reading file em.tpr, VERSION 2021.4-Ubuntu-2021.4-2 (single precision)\n",
            "Using 1 MPI thread\n",
            "Using 2 OpenMP threads \n",
            "\n",
            "\n",
            "Steepest Descents:\n",
            "   Tolerance (Fmax)   =  1.00000e+03\n",
            "   Number of steps    =        50000\n",
            "Step=    0, Dmax= 1.0e-02 nm, Epot= -1.56575e+04 Fmax= 2.63367e+04, atom= 1\n",
            "Step=    1, Dmax= 1.0e-02 nm, Epot= -1.60085e+04 Fmax= 9.93192e+03, atom= 1\n",
            "Step=    2, Dmax= 1.2e-02 nm, Epot= -1.63927e+04 Fmax= 3.03040e+03, atom= 1\n",
            "Step=    3, Dmax= 1.4e-02 nm, Epot= -1.71079e+04 Fmax= 2.94726e+03, atom= 2\n",
            "Step=    4, Dmax= 1.7e-02 nm, Epot= -1.74371e+04 Fmax= 1.18749e+04, atom= 2\n",
            "Step=    5, Dmax= 2.1e-02 nm, Epot= -1.76552e+04 Fmax= 5.72792e+03, atom= 2\n",
            "Step=    7, Dmax= 1.2e-02 nm, Epot= -1.77811e+04 Fmax= 4.89436e+03, atom= 2\n",
            "Step=    8, Dmax= 1.5e-02 nm, Epot= -1.78857e+04 Fmax= 7.79418e+03, atom= 2\n",
            "Step=    9, Dmax= 1.8e-02 nm, Epot= -1.79902e+04 Fmax= 7.54902e+03, atom= 2\n",
            "Step=   10, Dmax= 2.1e-02 nm, Epot= -1.80343e+04 Fmax= 1.07229e+04, atom= 2\n",
            "Step=   11, Dmax= 2.6e-02 nm, Epot= -1.81080e+04 Fmax= 1.14588e+04, atom= 2\n",
            "Step=   13, Dmax= 1.5e-02 nm, Epot= -1.82957e+04 Fmax= 1.89619e+03, atom= 2\n",
            "Step=   14, Dmax= 1.9e-02 nm, Epot= -1.83817e+04 Fmax= 1.39957e+04, atom= 2\n",
            "Step=   15, Dmax= 2.2e-02 nm, Epot= -1.86102e+04 Fmax= 5.26038e+03, atom= 2\n",
            "Step=   17, Dmax= 1.3e-02 nm, Epot= -1.86596e+04 Fmax= 6.20644e+03, atom= 2\n",
            "Step=   18, Dmax= 1.6e-02 nm, Epot= -1.86965e+04 Fmax= 7.58214e+03, atom= 2\n",
            "Step=   19, Dmax= 1.9e-02 nm, Epot= -1.87271e+04 Fmax= 8.98895e+03, atom= 2\n",
            "Step=   20, Dmax= 2.3e-02 nm, Epot= -1.87363e+04 Fmax= 1.07836e+04, atom= 2\n",
            "Step=   22, Dmax= 1.4e-02 nm, Epot= -1.88967e+04 Fmax= 1.04376e+03, atom= 1\n",
            "Step=   23, Dmax= 1.7e-02 nm, Epot= -1.89933e+04 Fmax= 1.30961e+04, atom= 2\n",
            "Step=   24, Dmax= 2.0e-02 nm, Epot= -1.91911e+04 Fmax= 3.98827e+03, atom= 2\n",
            "Step=   26, Dmax= 1.2e-02 nm, Epot= -1.92065e+04 Fmax= 6.32321e+03, atom= 2\n",
            "Step=   27, Dmax= 1.4e-02 nm, Epot= -1.92417e+04 Fmax= 6.01726e+03, atom= 2\n",
            "Step=   29, Dmax= 8.6e-03 nm, Epot= -1.92989e+04 Fmax= 1.47242e+03, atom= 2\n",
            "Step=   30, Dmax= 1.0e-02 nm, Epot= -1.93311e+04 Fmax= 7.27175e+03, atom= 2\n",
            "Step=   31, Dmax= 1.2e-02 nm, Epot= -1.93974e+04 Fmax= 3.50034e+03, atom= 2\n",
            "Step=   33, Dmax= 7.5e-03 nm, Epot= -1.94265e+04 Fmax= 2.86296e+03, atom= 2\n",
            "Step=   34, Dmax= 8.9e-03 nm, Epot= -1.94440e+04 Fmax= 4.91624e+03, atom= 2\n",
            "Step=   35, Dmax= 1.1e-02 nm, Epot= -1.94743e+04 Fmax= 4.28886e+03, atom= 2\n",
            "Step=   37, Dmax= 6.4e-03 nm, Epot= -1.95095e+04 Fmax= 1.32822e+03, atom= 2\n",
            "Step=   38, Dmax= 7.7e-03 nm, Epot= -1.95417e+04 Fmax= 5.16845e+03, atom= 2\n",
            "Step=   39, Dmax= 9.3e-03 nm, Epot= -1.95806e+04 Fmax= 2.89268e+03, atom= 2\n",
            "Step=   41, Dmax= 5.6e-03 nm, Epot= -1.96047e+04 Fmax= 1.85230e+03, atom= 2\n",
            "Step=   42, Dmax= 6.7e-03 nm, Epot= -1.96251e+04 Fmax= 3.99781e+03, atom= 2\n",
            "Step=   43, Dmax= 8.0e-03 nm, Epot= -1.96521e+04 Fmax= 2.86745e+03, atom= 2\n",
            "Step=   44, Dmax= 9.6e-03 nm, Epot= -1.96578e+04 Fmax= 5.48667e+03, atom= 2\n",
            "Step=   45, Dmax= 1.2e-02 nm, Epot= -1.96880e+04 Fmax= 4.43629e+03, atom= 2\n",
            "Step=   47, Dmax= 6.9e-03 nm, Epot= -1.97210e+04 Fmax= 1.60058e+03, atom= 2\n",
            "Step=   48, Dmax= 8.3e-03 nm, Epot= -1.97341e+04 Fmax= 5.45363e+03, atom= 2\n",
            "Step=   49, Dmax= 1.0e-02 nm, Epot= -1.97710e+04 Fmax= 3.21325e+03, atom= 2\n",
            "Step=   51, Dmax= 6.0e-03 nm, Epot= -1.97933e+04 Fmax= 1.90386e+03, atom= 2\n",
            "Step=   52, Dmax= 7.2e-03 nm, Epot= -1.98056e+04 Fmax= 4.37949e+03, atom= 2\n",
            "Step=   53, Dmax= 8.6e-03 nm, Epot= -1.98319e+04 Fmax= 3.02009e+03, atom= 2\n",
            "Step=   55, Dmax= 5.2e-03 nm, Epot= -1.98528e+04 Fmax= 1.50011e+03, atom= 2\n",
            "Step=   56, Dmax= 6.2e-03 nm, Epot= -1.98698e+04 Fmax= 3.76419e+03, atom= 2\n",
            "Step=   57, Dmax= 7.4e-03 nm, Epot= -1.98919e+04 Fmax= 2.72029e+03, atom= 2\n",
            "Step=   58, Dmax= 8.9e-03 nm, Epot= -1.98957e+04 Fmax= 4.95865e+03, atom= 2\n",
            "Step=   59, Dmax= 1.1e-02 nm, Epot= -1.99172e+04 Fmax= 4.34702e+03, atom= 2\n",
            "Step=   61, Dmax= 6.4e-03 nm, Epot= -1.99469e+04 Fmax= 1.16968e+03, atom= 2\n",
            "Step=   62, Dmax= 7.7e-03 nm, Epot= -1.99573e+04 Fmax= 5.62891e+03, atom= 2\n",
            "Step=   63, Dmax= 9.3e-03 nm, Epot= -1.99973e+04 Fmax= 2.33897e+03, atom= 2\n",
            "Step=   65, Dmax= 5.6e-03 nm, Epot= -2.00117e+04 Fmax= 2.52005e+03, atom= 2\n",
            "Step=   66, Dmax= 6.7e-03 nm, Epot= -2.00238e+04 Fmax= 3.20080e+03, atom= 2\n",
            "Step=   67, Dmax= 8.0e-03 nm, Epot= -2.00350e+04 Fmax= 3.76411e+03, atom= 2\n",
            "Step=   68, Dmax= 9.6e-03 nm, Epot= -2.00434e+04 Fmax= 4.51996e+03, atom= 2\n",
            "Step=   69, Dmax= 1.2e-02 nm, Epot= -2.00479e+04 Fmax= 5.47034e+03, atom= 2\n",
            "Step=   70, Dmax= 1.4e-02 nm, Epot= -2.00494e+04 Fmax= 6.50535e+03, atom= 2\n",
            "Step=   72, Dmax= 8.3e-03 nm, Epot= -2.01033e+04 Fmax= 7.45151e+02, atom= 2\n",
            "\n",
            "writing lowest energy coordinates.\n",
            "\n",
            "Steepest Descents converged to Fmax < 1000 in 73 steps\n",
            "Potential Energy  = -2.0103328e+04\n",
            "Maximum force     =  7.4515112e+02 on atom 2\n",
            "Norm of force     =  5.3791270e+01\n",
            "\n",
            "GROMACS reminds you: \"Catholic School Girls Rule\" (Red Hot Chili Peppers)\n",
            "\n"
          ]
        }
      ]
    },
    {
      "cell_type": "code",
      "source": [
        "!printf \"9 0\" | gmx energy -f em.edr -o potential.xvg"
      ],
      "metadata": {
        "colab": {
          "base_uri": "https://localhost:8080/"
        },
        "id": "AY9iboe9kuGz",
        "outputId": "711ef053-764d-4d29-f8c3-72f2e45133be"
      },
      "execution_count": 19,
      "outputs": [
        {
          "output_type": "stream",
          "name": "stdout",
          "text": [
            "              :-) GROMACS - gmx energy, 2021.4-Ubuntu-2021.4-2 (-:\n",
            "\n",
            "                            GROMACS is written by:\n",
            "     Andrey Alekseenko              Emile Apol              Rossen Apostolov     \n",
            "         Paul Bauer           Herman J.C. Berendsen           Par Bjelkmar       \n",
            "       Christian Blau           Viacheslav Bolnykh             Kevin Boyd        \n",
            "     Aldert van Buuren           Rudi van Drunen             Anton Feenstra      \n",
            "    Gilles Gouaillardet             Alan Gray               Gerrit Groenhof      \n",
            "       Anca Hamuraru            Vincent Hindriksen          M. Eric Irrgang      \n",
            "      Aleksei Iupinov           Christoph Junghans             Joe Jordan        \n",
            "    Dimitrios Karkoulis            Peter Kasson                Jiri Kraus        \n",
            "      Carsten Kutzner              Per Larsson              Justin A. Lemkul     \n",
            "       Viveca Lindahl            Magnus Lundborg             Erik Marklund       \n",
            "        Pascal Merz             Pieter Meulenhoff            Teemu Murtola       \n",
            "        Szilard Pall               Sander Pronk              Roland Schulz       \n",
            "       Michael Shirts            Alexey Shvetsov             Alfons Sijbers      \n",
            "       Peter Tieleman              Jon Vincent              Teemu Virolainen     \n",
            "     Christian Wennberg            Maarten Wolf              Artem Zhmurov       \n",
            "                           and the project leaders:\n",
            "        Mark Abraham, Berk Hess, Erik Lindahl, and David van der Spoel\n",
            "\n",
            "Copyright (c) 1991-2000, University of Groningen, The Netherlands.\n",
            "Copyright (c) 2001-2019, The GROMACS development team at\n",
            "Uppsala University, Stockholm University and\n",
            "the Royal Institute of Technology, Sweden.\n",
            "check out http://www.gromacs.org for more information.\n",
            "\n",
            "GROMACS is free software; you can redistribute it and/or modify it\n",
            "under the terms of the GNU Lesser General Public License\n",
            "as published by the Free Software Foundation; either version 2.1\n",
            "of the License, or (at your option) any later version.\n",
            "\n",
            "GROMACS:      gmx energy, version 2021.4-Ubuntu-2021.4-2\n",
            "Executable:   /usr/bin/gmx\n",
            "Data prefix:  /usr\n",
            "Working dir:  /content\n",
            "Command line:\n",
            "  gmx energy -f em.edr -o potential.xvg\n",
            "\n",
            "Opened em.edr as single precision energy file\n",
            "\n",
            "Select the terms you want from the following list by\n",
            "selecting either (part of) the name or the number or a combination.\n",
            "End your selection with an empty line or a zero.\n",
            "-------------------------------------------------------------------\n",
            "  1  Bond             2  Angle            3  Ryckaert-Bell.   4  LJ-14         \n",
            "  5  Coulomb-14       6  LJ-(SR)          7  Coulomb-(SR)     8  Coul.-recip.  \n",
            "  9  Potential       10  Pressure        11  Vir-XX          12  Vir-XY        \n",
            " 13  Vir-XZ          14  Vir-YX          15  Vir-YY          16  Vir-YZ        \n",
            " 17  Vir-ZX          18  Vir-ZY          19  Vir-ZZ          20  Pres-XX       \n",
            " 21  Pres-XY         22  Pres-XZ         23  Pres-YX         24  Pres-YY       \n",
            " 25  Pres-YZ         26  Pres-ZX         27  Pres-ZY         28  Pres-ZZ       \n",
            " 29  #Surf*SurfTen   30  T-rest        \n",
            "\n",
            "\rReading energy frame      0 time    0.000         \rReading energy frame      1 time    1.000         \rReading energy frame      2 time    2.000         \rReading energy frame      3 time    3.000         \rReading energy frame      4 time    4.000         \rReading energy frame      5 time    5.000         \rReading energy frame      6 time    7.000         \rReading energy frame      7 time    8.000         \rReading energy frame      8 time    9.000         \rReading energy frame      9 time   10.000         \rReading energy frame     10 time   11.000         \rReading energy frame     11 time   13.000         \rReading energy frame     12 time   14.000         \rReading energy frame     13 time   15.000         \rReading energy frame     14 time   17.000         \rReading energy frame     15 time   18.000         \rReading energy frame     16 time   19.000         \rReading energy frame     17 time   20.000         \rReading energy frame     18 time   22.000         \rReading energy frame     19 time   23.000         \rReading energy frame     20 time   24.000         \rReading energy frame     30 time   38.000         \rReading energy frame     40 time   51.000         \rReading energy frame     50 time   63.000         \rLast energy frame read 57 time   72.000         \n",
            "\n",
            "Statistics over 73 steps [ 0.0000 through 72.0000 ps ], 1 data sets\n",
            "All statistics are over 58 points (frames)\n",
            "\n",
            "Energy                      Average   Err.Est.       RMSD  Tot-Drift\n",
            "-------------------------------------------------------------------------------\n",
            "Potential                  -19090.1        460    1044.08   -3085.43  (kJ/mol)\n",
            "\n",
            "GROMACS reminds you: \"We ignore public understanding of science at our peril.\" (Eugenie Clark)\n",
            "\n"
          ]
        }
      ]
    },
    {
      "cell_type": "code",
      "source": [
        "#!xmgrace potential.xvg"
      ],
      "metadata": {
        "id": "9ouGfyh_kuD_"
      },
      "execution_count": 20,
      "outputs": []
    },
    {
      "cell_type": "markdown",
      "source": [
        "# 7. Equilibrio"
      ],
      "metadata": {
        "id": "xzXcidoEk8Gn"
      }
    },
    {
      "cell_type": "code",
      "source": [
        "#(1) Primero requerimos crear un archivo de índice: index.ndx\n",
        "!gmx make_ndx -f em.gro -o index.ndx"
      ],
      "metadata": {
        "colab": {
          "base_uri": "https://localhost:8080/"
        },
        "id": "oS7-obKYkuBi",
        "outputId": "43ed2ebc-965a-4260-acc3-c40537eba08e"
      },
      "execution_count": 33,
      "outputs": [
        {
          "output_type": "stream",
          "name": "stdout",
          "text": [
            "             :-) GROMACS - gmx make_ndx, 2021.4-Ubuntu-2021.4-2 (-:\n",
            "\n",
            "                            GROMACS is written by:\n",
            "     Andrey Alekseenko              Emile Apol              Rossen Apostolov     \n",
            "         Paul Bauer           Herman J.C. Berendsen           Par Bjelkmar       \n",
            "       Christian Blau           Viacheslav Bolnykh             Kevin Boyd        \n",
            "     Aldert van Buuren           Rudi van Drunen             Anton Feenstra      \n",
            "    Gilles Gouaillardet             Alan Gray               Gerrit Groenhof      \n",
            "       Anca Hamuraru            Vincent Hindriksen          M. Eric Irrgang      \n",
            "      Aleksei Iupinov           Christoph Junghans             Joe Jordan        \n",
            "    Dimitrios Karkoulis            Peter Kasson                Jiri Kraus        \n",
            "      Carsten Kutzner              Per Larsson              Justin A. Lemkul     \n",
            "       Viveca Lindahl            Magnus Lundborg             Erik Marklund       \n",
            "        Pascal Merz             Pieter Meulenhoff            Teemu Murtola       \n",
            "        Szilard Pall               Sander Pronk              Roland Schulz       \n",
            "       Michael Shirts            Alexey Shvetsov             Alfons Sijbers      \n",
            "       Peter Tieleman              Jon Vincent              Teemu Virolainen     \n",
            "     Christian Wennberg            Maarten Wolf              Artem Zhmurov       \n",
            "                           and the project leaders:\n",
            "        Mark Abraham, Berk Hess, Erik Lindahl, and David van der Spoel\n",
            "\n",
            "Copyright (c) 1991-2000, University of Groningen, The Netherlands.\n",
            "Copyright (c) 2001-2019, The GROMACS development team at\n",
            "Uppsala University, Stockholm University and\n",
            "the Royal Institute of Technology, Sweden.\n",
            "check out http://www.gromacs.org for more information.\n",
            "\n",
            "GROMACS is free software; you can redistribute it and/or modify it\n",
            "under the terms of the GNU Lesser General Public License\n",
            "as published by the Free Software Foundation; either version 2.1\n",
            "of the License, or (at your option) any later version.\n",
            "\n",
            "GROMACS:      gmx make_ndx, version 2021.4-Ubuntu-2021.4-2\n",
            "Executable:   /usr/bin/gmx\n",
            "Data prefix:  /usr\n",
            "Working dir:  /content\n",
            "Command line:\n",
            "  gmx make_ndx -f em.gro -o index.ndx\n",
            "\n",
            "\n",
            "Reading structure file\n",
            "Going to read 0 old index file(s)\n",
            "Analysing residue names:\n",
            "There are:     1      Other residues\n",
            "There are:   467      Water residues\n",
            "Analysing residues not classified as Protein/DNA/RNA/Water and splitting into groups...\n",
            "\n",
            "  0 System              :  2345 atoms\n",
            "  1 Other               :    10 atoms\n",
            "  2 DMSO                :    10 atoms\n",
            "  3 Water               :  2335 atoms\n",
            "  4 SOL                 :  2335 atoms\n",
            "  5 non-Water           :    10 atoms\n",
            "\n",
            " nr : group      '!': not  'name' nr name   'splitch' nr    Enter: list groups\n",
            " 'a': atom       '&': and  'del' nr         'splitres' nr   'l': list residues\n",
            " 't': atom type  '|': or   'keep' nr        'splitat' nr    'h': help\n",
            " 'r': residue              'res' nr         'chain' char\n",
            " \"name\": group             'case': case sensitive           'q': save and quit\n",
            " 'ri': residue index\n",
            "\n",
            "> 2\n",
            "\n",
            "Copied index group 2 'DMSO'\n",
            "\n",
            "  6 DMSO                :    10 atoms\n",
            "\n",
            "> 4\n",
            "\n",
            "Copied index group 4 'SOL'\n",
            "\n",
            "  7 SOL                 :  2335 atoms\n",
            "\n",
            "> q\n",
            "\n",
            "\n",
            "GROMACS reminds you: \"Everybody Lie Down On the Floor and Keep Calm\" (KLF)\n",
            "\n"
          ]
        }
      ]
    },
    {
      "cell_type": "markdown",
      "source": [
        "## 7.1 NVT"
      ],
      "metadata": {
        "id": "F2L05Bennymz"
      }
    },
    {
      "cell_type": "code",
      "source": [
        "!gmx grompp -f nvt.mdp -c em.gro -r em.gro -p topol.top -n index.ndx -o nvt.tpr"
      ],
      "metadata": {
        "colab": {
          "base_uri": "https://localhost:8080/"
        },
        "id": "2Ce_pcMFOsl2",
        "outputId": "70801715-0306-4cb8-8bd3-62943a9f711d"
      },
      "execution_count": 35,
      "outputs": [
        {
          "output_type": "stream",
          "name": "stdout",
          "text": [
            "              :-) GROMACS - gmx grompp, 2021.4-Ubuntu-2021.4-2 (-:\n",
            "\n",
            "                            GROMACS is written by:\n",
            "     Andrey Alekseenko              Emile Apol              Rossen Apostolov     \n",
            "         Paul Bauer           Herman J.C. Berendsen           Par Bjelkmar       \n",
            "       Christian Blau           Viacheslav Bolnykh             Kevin Boyd        \n",
            "     Aldert van Buuren           Rudi van Drunen             Anton Feenstra      \n",
            "    Gilles Gouaillardet             Alan Gray               Gerrit Groenhof      \n",
            "       Anca Hamuraru            Vincent Hindriksen          M. Eric Irrgang      \n",
            "      Aleksei Iupinov           Christoph Junghans             Joe Jordan        \n",
            "    Dimitrios Karkoulis            Peter Kasson                Jiri Kraus        \n",
            "      Carsten Kutzner              Per Larsson              Justin A. Lemkul     \n",
            "       Viveca Lindahl            Magnus Lundborg             Erik Marklund       \n",
            "        Pascal Merz             Pieter Meulenhoff            Teemu Murtola       \n",
            "        Szilard Pall               Sander Pronk              Roland Schulz       \n",
            "       Michael Shirts            Alexey Shvetsov             Alfons Sijbers      \n",
            "       Peter Tieleman              Jon Vincent              Teemu Virolainen     \n",
            "     Christian Wennberg            Maarten Wolf              Artem Zhmurov       \n",
            "                           and the project leaders:\n",
            "        Mark Abraham, Berk Hess, Erik Lindahl, and David van der Spoel\n",
            "\n",
            "Copyright (c) 1991-2000, University of Groningen, The Netherlands.\n",
            "Copyright (c) 2001-2019, The GROMACS development team at\n",
            "Uppsala University, Stockholm University and\n",
            "the Royal Institute of Technology, Sweden.\n",
            "check out http://www.gromacs.org for more information.\n",
            "\n",
            "GROMACS is free software; you can redistribute it and/or modify it\n",
            "under the terms of the GNU Lesser General Public License\n",
            "as published by the Free Software Foundation; either version 2.1\n",
            "of the License, or (at your option) any later version.\n",
            "\n",
            "GROMACS:      gmx grompp, version 2021.4-Ubuntu-2021.4-2\n",
            "Executable:   /usr/bin/gmx\n",
            "Data prefix:  /usr\n",
            "Working dir:  /content\n",
            "Command line:\n",
            "  gmx grompp -f nvt.mdp -c em.gro -r em.gro -p topol.top -n index.ndx -o nvt.tpr\n",
            "\n",
            "Ignoring obsolete mdp entry 'title'\n",
            "Ignoring obsolete mdp entry 'ns_type'\n",
            "Setting the LD random seed to -446694059\n",
            "\n",
            "Generated 330891 of the 330891 non-bonded parameter combinations\n",
            "Generating 1-4 interactions: fudge = 0.5\n",
            "\n",
            "Generated 330891 of the 330891 1-4 parameter combinations\n",
            "\n",
            "Excluding 3 bonded neighbours molecule type 'Other'\n",
            "\n",
            "turning H bonds into constraints...\n",
            "\n",
            "Excluding 2 bonded neighbours molecule type 'SOL'\n",
            "\n",
            "turning H bonds into constraints...\n",
            "\n",
            "Setting gen_seed to -51126850\n",
            "\n",
            "Velocities were taken from a Maxwell distribution at 300 K\n",
            "\n",
            "Cleaning up constraints and constant bonded interactions with virtual sites\n",
            "Number of degrees of freedom in T-Coupling group Other is 23.97\n",
            "Number of degrees of freedom in T-Coupling group SOL is 2799.03\n",
            "\n",
            "Determining Verlet buffer for a tolerance of 0.005 kJ/mol/ps at 300 K\n",
            "\n",
            "NOTE 1 [file nvt.mdp]:\n",
            "  There are 934 non-linear virtual site constructions. Their contribution\n",
            "  to the energy error is approximated. In most cases this does not affect\n",
            "  the error significantly.\n",
            "\n",
            "\n",
            "Calculated rlist for 1x1 atom pair-list as 1.034 nm, buffer size 0.034 nm\n",
            "\n",
            "Set rlist, assuming 4x4 atom pair-list, to 1.000 nm, buffer size 0.000 nm\n",
            "\n",
            "Note that mdrun will redetermine rlist based on the actual pair-list setup\n",
            "\n",
            "NOTE 2 [file nvt.mdp]:\n",
            "  Removing center of mass motion in the presence of position restraints\n",
            "  might cause artifacts. When you are using position restraints to\n",
            "  equilibrate a macro-molecule, the artifacts are usually negligible.\n",
            "\n",
            "Calculating fourier grid dimensions for X Y Z\n",
            "Using a fourier grid of 16x16x16, spacing 0.153 0.153 0.153\n",
            "\n",
            "Estimate for the relative computational load of the PME mesh part: 0.10\n",
            "\n",
            "This run will generate roughly 6 Mb of data\n",
            "\n",
            "There were 2 notes\n",
            "\n",
            "GROMACS reminds you: \"I like single-molecule experiments because I hate to simulate 10^23 molecules at the same time.\" (Helmut Grubmüller)\n",
            "\n"
          ]
        }
      ]
    },
    {
      "cell_type": "code",
      "source": [
        "!gmx mdrun -v -deffnm nvt"
      ],
      "metadata": {
        "colab": {
          "base_uri": "https://localhost:8080/"
        },
        "id": "defwMYbFOsi5",
        "outputId": "37165dd6-ffd5-4425-9eec-e7aa41c4609f"
      },
      "execution_count": 36,
      "outputs": [
        {
          "output_type": "stream",
          "name": "stdout",
          "text": [
            "              :-) GROMACS - gmx mdrun, 2021.4-Ubuntu-2021.4-2 (-:\n",
            "\n",
            "                            GROMACS is written by:\n",
            "     Andrey Alekseenko              Emile Apol              Rossen Apostolov     \n",
            "         Paul Bauer           Herman J.C. Berendsen           Par Bjelkmar       \n",
            "       Christian Blau           Viacheslav Bolnykh             Kevin Boyd        \n",
            "     Aldert van Buuren           Rudi van Drunen             Anton Feenstra      \n",
            "    Gilles Gouaillardet             Alan Gray               Gerrit Groenhof      \n",
            "       Anca Hamuraru            Vincent Hindriksen          M. Eric Irrgang      \n",
            "      Aleksei Iupinov           Christoph Junghans             Joe Jordan        \n",
            "    Dimitrios Karkoulis            Peter Kasson                Jiri Kraus        \n",
            "      Carsten Kutzner              Per Larsson              Justin A. Lemkul     \n",
            "       Viveca Lindahl            Magnus Lundborg             Erik Marklund       \n",
            "        Pascal Merz             Pieter Meulenhoff            Teemu Murtola       \n",
            "        Szilard Pall               Sander Pronk              Roland Schulz       \n",
            "       Michael Shirts            Alexey Shvetsov             Alfons Sijbers      \n",
            "       Peter Tieleman              Jon Vincent              Teemu Virolainen     \n",
            "     Christian Wennberg            Maarten Wolf              Artem Zhmurov       \n",
            "                           and the project leaders:\n",
            "        Mark Abraham, Berk Hess, Erik Lindahl, and David van der Spoel\n",
            "\n",
            "Copyright (c) 1991-2000, University of Groningen, The Netherlands.\n",
            "Copyright (c) 2001-2019, The GROMACS development team at\n",
            "Uppsala University, Stockholm University and\n",
            "the Royal Institute of Technology, Sweden.\n",
            "check out http://www.gromacs.org for more information.\n",
            "\n",
            "GROMACS is free software; you can redistribute it and/or modify it\n",
            "under the terms of the GNU Lesser General Public License\n",
            "as published by the Free Software Foundation; either version 2.1\n",
            "of the License, or (at your option) any later version.\n",
            "\n",
            "GROMACS:      gmx mdrun, version 2021.4-Ubuntu-2021.4-2\n",
            "Executable:   /usr/bin/gmx\n",
            "Data prefix:  /usr\n",
            "Working dir:  /content\n",
            "Command line:\n",
            "  gmx mdrun -v -deffnm nvt\n",
            "\n",
            "Compiled SIMD: SSE4.1, but for this host/run AVX2_256 might be better (see\n",
            "log).\n",
            "Reading file nvt.tpr, VERSION 2021.4-Ubuntu-2021.4-2 (single precision)\n",
            "Changing nstlist from 10 to 25, rlist from 1 to 1.042\n",
            "\n",
            "Using 1 MPI thread\n",
            "Using 2 OpenMP threads \n",
            "\n",
            "starting mdrun 'DMSO in water'\n",
            "50000 steps,    100.0 ps.\n",
            "step 49900, remaining wall clock time:     0 s          \n",
            "Writing final coordinates.\n",
            "step 50000, remaining wall clock time:     0 s          \n",
            "               Core t (s)   Wall t (s)        (%)\n",
            "       Time:      545.401      272.701      200.0\n",
            "                 (ns/day)    (hour/ns)\n",
            "Performance:       31.684        0.757\n",
            "\n",
            "GROMACS reminds you: \"The World is a Friendly Place\" (Magnapop)\n",
            "\n"
          ]
        }
      ]
    },
    {
      "cell_type": "code",
      "source": [
        "!printf \"15 0\" | gmx energy -f nvt.edr -o temperature.xvg\n",
        "#!xmgrace temperature.xvg"
      ],
      "metadata": {
        "colab": {
          "base_uri": "https://localhost:8080/"
        },
        "id": "sedtwjDEm4R5",
        "outputId": "a17cd413-5300-43b8-a557-1259ca0b6283"
      },
      "execution_count": 37,
      "outputs": [
        {
          "output_type": "stream",
          "name": "stdout",
          "text": [
            "              :-) GROMACS - gmx energy, 2021.4-Ubuntu-2021.4-2 (-:\n",
            "\n",
            "                            GROMACS is written by:\n",
            "     Andrey Alekseenko              Emile Apol              Rossen Apostolov     \n",
            "         Paul Bauer           Herman J.C. Berendsen           Par Bjelkmar       \n",
            "       Christian Blau           Viacheslav Bolnykh             Kevin Boyd        \n",
            "     Aldert van Buuren           Rudi van Drunen             Anton Feenstra      \n",
            "    Gilles Gouaillardet             Alan Gray               Gerrit Groenhof      \n",
            "       Anca Hamuraru            Vincent Hindriksen          M. Eric Irrgang      \n",
            "      Aleksei Iupinov           Christoph Junghans             Joe Jordan        \n",
            "    Dimitrios Karkoulis            Peter Kasson                Jiri Kraus        \n",
            "      Carsten Kutzner              Per Larsson              Justin A. Lemkul     \n",
            "       Viveca Lindahl            Magnus Lundborg             Erik Marklund       \n",
            "        Pascal Merz             Pieter Meulenhoff            Teemu Murtola       \n",
            "        Szilard Pall               Sander Pronk              Roland Schulz       \n",
            "       Michael Shirts            Alexey Shvetsov             Alfons Sijbers      \n",
            "       Peter Tieleman              Jon Vincent              Teemu Virolainen     \n",
            "     Christian Wennberg            Maarten Wolf              Artem Zhmurov       \n",
            "                           and the project leaders:\n",
            "        Mark Abraham, Berk Hess, Erik Lindahl, and David van der Spoel\n",
            "\n",
            "Copyright (c) 1991-2000, University of Groningen, The Netherlands.\n",
            "Copyright (c) 2001-2019, The GROMACS development team at\n",
            "Uppsala University, Stockholm University and\n",
            "the Royal Institute of Technology, Sweden.\n",
            "check out http://www.gromacs.org for more information.\n",
            "\n",
            "GROMACS is free software; you can redistribute it and/or modify it\n",
            "under the terms of the GNU Lesser General Public License\n",
            "as published by the Free Software Foundation; either version 2.1\n",
            "of the License, or (at your option) any later version.\n",
            "\n",
            "GROMACS:      gmx energy, version 2021.4-Ubuntu-2021.4-2\n",
            "Executable:   /usr/bin/gmx\n",
            "Data prefix:  /usr\n",
            "Working dir:  /content\n",
            "Command line:\n",
            "  gmx energy -f nvt.edr -o temperature.xvg\n",
            "\n",
            "Opened nvt.edr as single precision energy file\n",
            "\n",
            "Select the terms you want from the following list by\n",
            "selecting either (part of) the name or the number or a combination.\n",
            "End your selection with an empty line or a zero.\n",
            "-------------------------------------------------------------------\n",
            "  1  Bond             2  Angle            3  Ryckaert-Bell.   4  LJ-14         \n",
            "  5  Coulomb-14       6  LJ-(SR)          7  Disper.-corr.    8  Coulomb-(SR)  \n",
            "  9  Coul.-recip.    10  Position-Rest.  11  Potential       12  Kinetic-En.   \n",
            " 13  Total-Energy    14  Conserved-En.   15  Temperature     16  Pres.-DC      \n",
            " 17  Pressure        18  Constr.-rmsd    19  Vir-XX          20  Vir-XY        \n",
            " 21  Vir-XZ          22  Vir-YX          23  Vir-YY          24  Vir-YZ        \n",
            " 25  Vir-ZX          26  Vir-ZY          27  Vir-ZZ          28  Pres-XX       \n",
            " 29  Pres-XY         30  Pres-XZ         31  Pres-YX         32  Pres-YY       \n",
            " 33  Pres-YZ         34  Pres-ZX         35  Pres-ZY         36  Pres-ZZ       \n",
            " 37  #Surf*SurfTen   38  T-Other         39  T-SOL           40  Lamb-Other    \n",
            " 41  Lamb-SOL      \n",
            "\n",
            "\rReading energy frame      0 time    0.000         \rReading energy frame      1 time    1.000         \rReading energy frame      2 time    2.000         \rReading energy frame      3 time    3.000         \rReading energy frame      4 time    4.000         \rReading energy frame      5 time    5.000         \rReading energy frame      6 time    6.000         \rReading energy frame      7 time    7.000         \rReading energy frame      8 time    8.000         \rReading energy frame      9 time    9.000         \rReading energy frame     10 time   10.000         \rReading energy frame     11 time   11.000         \rReading energy frame     12 time   12.000         \rReading energy frame     13 time   13.000         \rReading energy frame     14 time   14.000         \rReading energy frame     15 time   15.000         \rReading energy frame     16 time   16.000         \rReading energy frame     17 time   17.000         \rReading energy frame     18 time   18.000         \rReading energy frame     19 time   19.000         \rReading energy frame     20 time   20.000         \rReading energy frame     30 time   30.000         \rReading energy frame     40 time   40.000         \rReading energy frame     50 time   50.000         \rReading energy frame     60 time   60.000         \rReading energy frame     70 time   70.000         \rReading energy frame     80 time   80.000         \rReading energy frame     90 time   90.000         \rReading energy frame    100 time  100.000         \rLast energy frame read 100 time  100.000         \n",
            "\n",
            "Statistics over 50001 steps [ 0.0000 through 100.0000 ps ], 1 data sets\n",
            "All statistics are over 501 points\n",
            "\n",
            "Energy                      Average   Err.Est.       RMSD  Tot-Drift\n",
            "-------------------------------------------------------------------------------\n",
            "Temperature                  299.26       0.63    8.56566    3.13445  (K)\n",
            "\n",
            "GROMACS reminds you: \"The World is a Friendly Place\" (Magnapop)\n",
            "\n"
          ]
        }
      ]
    },
    {
      "cell_type": "markdown",
      "source": [
        "## 7.2 NPT"
      ],
      "metadata": {
        "id": "tbRTCeomn3qx"
      }
    },
    {
      "cell_type": "code",
      "source": [
        "!gmx grompp -f npt.mdp -c nvt.gro -r nvt.gro -t nvt.cpt -p topol.top -n index.ndx -o npt.tpr"
      ],
      "metadata": {
        "colab": {
          "base_uri": "https://localhost:8080/"
        },
        "id": "Vf2NSGdim4PF",
        "outputId": "206657d6-ec2a-4a21-80ac-288d862e568c"
      },
      "execution_count": 38,
      "outputs": [
        {
          "output_type": "stream",
          "name": "stdout",
          "text": [
            "              :-) GROMACS - gmx grompp, 2021.4-Ubuntu-2021.4-2 (-:\n",
            "\n",
            "                            GROMACS is written by:\n",
            "     Andrey Alekseenko              Emile Apol              Rossen Apostolov     \n",
            "         Paul Bauer           Herman J.C. Berendsen           Par Bjelkmar       \n",
            "       Christian Blau           Viacheslav Bolnykh             Kevin Boyd        \n",
            "     Aldert van Buuren           Rudi van Drunen             Anton Feenstra      \n",
            "    Gilles Gouaillardet             Alan Gray               Gerrit Groenhof      \n",
            "       Anca Hamuraru            Vincent Hindriksen          M. Eric Irrgang      \n",
            "      Aleksei Iupinov           Christoph Junghans             Joe Jordan        \n",
            "    Dimitrios Karkoulis            Peter Kasson                Jiri Kraus        \n",
            "      Carsten Kutzner              Per Larsson              Justin A. Lemkul     \n",
            "       Viveca Lindahl            Magnus Lundborg             Erik Marklund       \n",
            "        Pascal Merz             Pieter Meulenhoff            Teemu Murtola       \n",
            "        Szilard Pall               Sander Pronk              Roland Schulz       \n",
            "       Michael Shirts            Alexey Shvetsov             Alfons Sijbers      \n",
            "       Peter Tieleman              Jon Vincent              Teemu Virolainen     \n",
            "     Christian Wennberg            Maarten Wolf              Artem Zhmurov       \n",
            "                           and the project leaders:\n",
            "        Mark Abraham, Berk Hess, Erik Lindahl, and David van der Spoel\n",
            "\n",
            "Copyright (c) 1991-2000, University of Groningen, The Netherlands.\n",
            "Copyright (c) 2001-2019, The GROMACS development team at\n",
            "Uppsala University, Stockholm University and\n",
            "the Royal Institute of Technology, Sweden.\n",
            "check out http://www.gromacs.org for more information.\n",
            "\n",
            "GROMACS is free software; you can redistribute it and/or modify it\n",
            "under the terms of the GNU Lesser General Public License\n",
            "as published by the Free Software Foundation; either version 2.1\n",
            "of the License, or (at your option) any later version.\n",
            "\n",
            "GROMACS:      gmx grompp, version 2021.4-Ubuntu-2021.4-2\n",
            "Executable:   /usr/bin/gmx\n",
            "Data prefix:  /usr\n",
            "Working dir:  /content\n",
            "Command line:\n",
            "  gmx grompp -f npt.mdp -c nvt.gro -r nvt.gro -t nvt.cpt -p topol.top -n index.ndx -o npt.tpr\n",
            "\n",
            "Ignoring obsolete mdp entry 'title'\n",
            "Ignoring obsolete mdp entry 'ns_type'\n",
            "Setting the LD random seed to -201460002\n",
            "\n",
            "Generated 330891 of the 330891 non-bonded parameter combinations\n",
            "Generating 1-4 interactions: fudge = 0.5\n",
            "\n",
            "Generated 330891 of the 330891 1-4 parameter combinations\n",
            "\n",
            "Excluding 3 bonded neighbours molecule type 'Other'\n",
            "\n",
            "turning H bonds into constraints...\n",
            "\n",
            "Excluding 2 bonded neighbours molecule type 'SOL'\n",
            "\n",
            "turning H bonds into constraints...\n",
            "\n",
            "Cleaning up constraints and constant bonded interactions with virtual sites\n",
            "\n",
            "NOTE 1 [file topol.top, line 126]:\n",
            "  You are combining position restraints with Parrinello-Rahman pressure\n",
            "  coupling, which can lead to instabilities. If you really want to combine\n",
            "  position restraints with pressure coupling, we suggest to use Berendsen\n",
            "  pressure coupling instead.\n",
            "\n",
            "\n",
            "The center of mass of the position restraint coord's is  1.192  1.231  1.163\n",
            "\n",
            "The center of mass of the position restraint coord's is  1.192  1.231  1.163\n",
            "Number of degrees of freedom in T-Coupling group Other is 23.97\n",
            "Number of degrees of freedom in T-Coupling group SOL is 2799.03\n",
            "\n",
            "Determining Verlet buffer for a tolerance of 0.005 kJ/mol/ps at 300 K\n",
            "\n",
            "NOTE 2 [file npt.mdp]:\n",
            "  There are 934 non-linear virtual site constructions. Their contribution\n",
            "  to the energy error is approximated. In most cases this does not affect\n",
            "  the error significantly.\n",
            "\n",
            "\n",
            "Calculated rlist for 1x1 atom pair-list as 1.034 nm, buffer size 0.034 nm\n",
            "\n",
            "Set rlist, assuming 4x4 atom pair-list, to 1.000 nm, buffer size 0.000 nm\n",
            "\n",
            "Note that mdrun will redetermine rlist based on the actual pair-list setup\n",
            "\n",
            "NOTE 3 [file npt.mdp]:\n",
            "  Removing center of mass motion in the presence of position restraints\n",
            "  might cause artifacts. When you are using position restraints to\n",
            "  equilibrate a macro-molecule, the artifacts are usually negligible.\n",
            "\n",
            "\n",
            "Reading Coordinates, Velocities and Box size from old trajectory\n",
            "\n",
            "Will read whole trajectory\n",
            "Last frame         -1 time  100.000   \n",
            "\n",
            "Using frame at t = 100 ps\n",
            "\n",
            "Starting time for run is 0 ps\n",
            "Calculating fourier grid dimensions for X Y Z\n",
            "Using a fourier grid of 16x16x16, spacing 0.153 0.153 0.153\n",
            "\n",
            "Estimate for the relative computational load of the PME mesh part: 0.10\n",
            "\n",
            "This run will generate roughly 6 Mb of data\n",
            "\n",
            "There were 3 notes\n",
            "\n",
            "GROMACS reminds you: \"If we knew what it was we were doing, it would not be called research, would it?\" (Albert Einstein)\n",
            "\n"
          ]
        }
      ]
    },
    {
      "cell_type": "code",
      "source": [
        "!gmx mdrun -v -deffnm npt"
      ],
      "metadata": {
        "colab": {
          "base_uri": "https://localhost:8080/"
        },
        "id": "QbCmPT6Pm4Mq",
        "outputId": "0e6d4839-5c26-4c1d-d3b0-a3e79c94fb6f"
      },
      "execution_count": 39,
      "outputs": [
        {
          "output_type": "stream",
          "name": "stdout",
          "text": [
            "              :-) GROMACS - gmx mdrun, 2021.4-Ubuntu-2021.4-2 (-:\n",
            "\n",
            "                            GROMACS is written by:\n",
            "     Andrey Alekseenko              Emile Apol              Rossen Apostolov     \n",
            "         Paul Bauer           Herman J.C. Berendsen           Par Bjelkmar       \n",
            "       Christian Blau           Viacheslav Bolnykh             Kevin Boyd        \n",
            "     Aldert van Buuren           Rudi van Drunen             Anton Feenstra      \n",
            "    Gilles Gouaillardet             Alan Gray               Gerrit Groenhof      \n",
            "       Anca Hamuraru            Vincent Hindriksen          M. Eric Irrgang      \n",
            "      Aleksei Iupinov           Christoph Junghans             Joe Jordan        \n",
            "    Dimitrios Karkoulis            Peter Kasson                Jiri Kraus        \n",
            "      Carsten Kutzner              Per Larsson              Justin A. Lemkul     \n",
            "       Viveca Lindahl            Magnus Lundborg             Erik Marklund       \n",
            "        Pascal Merz             Pieter Meulenhoff            Teemu Murtola       \n",
            "        Szilard Pall               Sander Pronk              Roland Schulz       \n",
            "       Michael Shirts            Alexey Shvetsov             Alfons Sijbers      \n",
            "       Peter Tieleman              Jon Vincent              Teemu Virolainen     \n",
            "     Christian Wennberg            Maarten Wolf              Artem Zhmurov       \n",
            "                           and the project leaders:\n",
            "        Mark Abraham, Berk Hess, Erik Lindahl, and David van der Spoel\n",
            "\n",
            "Copyright (c) 1991-2000, University of Groningen, The Netherlands.\n",
            "Copyright (c) 2001-2019, The GROMACS development team at\n",
            "Uppsala University, Stockholm University and\n",
            "the Royal Institute of Technology, Sweden.\n",
            "check out http://www.gromacs.org for more information.\n",
            "\n",
            "GROMACS is free software; you can redistribute it and/or modify it\n",
            "under the terms of the GNU Lesser General Public License\n",
            "as published by the Free Software Foundation; either version 2.1\n",
            "of the License, or (at your option) any later version.\n",
            "\n",
            "GROMACS:      gmx mdrun, version 2021.4-Ubuntu-2021.4-2\n",
            "Executable:   /usr/bin/gmx\n",
            "Data prefix:  /usr\n",
            "Working dir:  /content\n",
            "Command line:\n",
            "  gmx mdrun -v -deffnm npt\n",
            "\n",
            "Compiled SIMD: SSE4.1, but for this host/run AVX2_256 might be better (see\n",
            "log).\n",
            "Reading file npt.tpr, VERSION 2021.4-Ubuntu-2021.4-2 (single precision)\n",
            "Changing nstlist from 10 to 25, rlist from 1 to 1.042\n",
            "\n",
            "Using 1 MPI thread\n",
            "Using 2 OpenMP threads \n",
            "\n",
            "starting mdrun 'DMSO in water'\n",
            "50000 steps,    100.0 ps.\n",
            "step 49900, remaining wall clock time:     0 s          \n",
            "Writing final coordinates.\n",
            "step 50000, remaining wall clock time:     0 s          \n",
            "               Core t (s)   Wall t (s)        (%)\n",
            "       Time:      561.708      280.854      200.0\n",
            "                 (ns/day)    (hour/ns)\n",
            "Performance:       30.764        0.780\n",
            "\n",
            "GROMACS reminds you: \"When you get right down to it, almost every explanation Man came up with for anything until about 1926 was stupid.\" (Dave Barry)\n",
            "\n"
          ]
        }
      ]
    },
    {
      "cell_type": "code",
      "source": [
        "!printf \"17 0\" | gmx energy -f npt.edr -o pressure.xvg\n",
        "#!xmgrace pressure.xvg"
      ],
      "metadata": {
        "colab": {
          "base_uri": "https://localhost:8080/"
        },
        "id": "2rX-kj34m4J1",
        "outputId": "2206b139-9ee7-48cf-a9c9-18021bffe11c"
      },
      "execution_count": 40,
      "outputs": [
        {
          "output_type": "stream",
          "name": "stdout",
          "text": [
            "              :-) GROMACS - gmx energy, 2021.4-Ubuntu-2021.4-2 (-:\n",
            "\n",
            "                            GROMACS is written by:\n",
            "     Andrey Alekseenko              Emile Apol              Rossen Apostolov     \n",
            "         Paul Bauer           Herman J.C. Berendsen           Par Bjelkmar       \n",
            "       Christian Blau           Viacheslav Bolnykh             Kevin Boyd        \n",
            "     Aldert van Buuren           Rudi van Drunen             Anton Feenstra      \n",
            "    Gilles Gouaillardet             Alan Gray               Gerrit Groenhof      \n",
            "       Anca Hamuraru            Vincent Hindriksen          M. Eric Irrgang      \n",
            "      Aleksei Iupinov           Christoph Junghans             Joe Jordan        \n",
            "    Dimitrios Karkoulis            Peter Kasson                Jiri Kraus        \n",
            "      Carsten Kutzner              Per Larsson              Justin A. Lemkul     \n",
            "       Viveca Lindahl            Magnus Lundborg             Erik Marklund       \n",
            "        Pascal Merz             Pieter Meulenhoff            Teemu Murtola       \n",
            "        Szilard Pall               Sander Pronk              Roland Schulz       \n",
            "       Michael Shirts            Alexey Shvetsov             Alfons Sijbers      \n",
            "       Peter Tieleman              Jon Vincent              Teemu Virolainen     \n",
            "     Christian Wennberg            Maarten Wolf              Artem Zhmurov       \n",
            "                           and the project leaders:\n",
            "        Mark Abraham, Berk Hess, Erik Lindahl, and David van der Spoel\n",
            "\n",
            "Copyright (c) 1991-2000, University of Groningen, The Netherlands.\n",
            "Copyright (c) 2001-2019, The GROMACS development team at\n",
            "Uppsala University, Stockholm University and\n",
            "the Royal Institute of Technology, Sweden.\n",
            "check out http://www.gromacs.org for more information.\n",
            "\n",
            "GROMACS is free software; you can redistribute it and/or modify it\n",
            "under the terms of the GNU Lesser General Public License\n",
            "as published by the Free Software Foundation; either version 2.1\n",
            "of the License, or (at your option) any later version.\n",
            "\n",
            "GROMACS:      gmx energy, version 2021.4-Ubuntu-2021.4-2\n",
            "Executable:   /usr/bin/gmx\n",
            "Data prefix:  /usr\n",
            "Working dir:  /content\n",
            "Command line:\n",
            "  gmx energy -f npt.edr -o pressure.xvg\n",
            "\n",
            "Opened npt.edr as single precision energy file\n",
            "\n",
            "Select the terms you want from the following list by\n",
            "selecting either (part of) the name or the number or a combination.\n",
            "End your selection with an empty line or a zero.\n",
            "-------------------------------------------------------------------\n",
            "  1  Bond             2  Angle            3  Ryckaert-Bell.   4  LJ-14         \n",
            "  5  Coulomb-14       6  LJ-(SR)          7  Disper.-corr.    8  Coulomb-(SR)  \n",
            "  9  Coul.-recip.    10  Position-Rest.  11  Potential       12  Kinetic-En.   \n",
            " 13  Total-Energy    14  Conserved-En.   15  Temperature     16  Pres.-DC      \n",
            " 17  Pressure        18  Constr.-rmsd    19  Box-X           20  Box-Y         \n",
            " 21  Box-Z           22  Volume          23  Density         24  pV            \n",
            " 25  Enthalpy        26  Vir-XX          27  Vir-XY          28  Vir-XZ        \n",
            " 29  Vir-YX          30  Vir-YY          31  Vir-YZ          32  Vir-ZX        \n",
            " 33  Vir-ZY          34  Vir-ZZ          35  Pres-XX         36  Pres-XY       \n",
            " 37  Pres-XZ         38  Pres-YX         39  Pres-YY         40  Pres-YZ       \n",
            " 41  Pres-ZX         42  Pres-ZY         43  Pres-ZZ         44  #Surf*SurfTen \n",
            " 45  Box-Vel-XX      46  Box-Vel-YY      47  Box-Vel-ZZ      48  T-Other       \n",
            " 49  T-SOL           50  Lamb-Other      51  Lamb-SOL      \n",
            "\n",
            "\rReading energy frame      0 time    0.000         \rReading energy frame      1 time    1.000         \rReading energy frame      2 time    2.000         \rReading energy frame      3 time    3.000         \rReading energy frame      4 time    4.000         \rReading energy frame      5 time    5.000         \rReading energy frame      6 time    6.000         \rReading energy frame      7 time    7.000         \rReading energy frame      8 time    8.000         \rReading energy frame      9 time    9.000         \rReading energy frame     10 time   10.000         \rReading energy frame     11 time   11.000         \rReading energy frame     12 time   12.000         \rReading energy frame     13 time   13.000         \rReading energy frame     14 time   14.000         \rReading energy frame     15 time   15.000         \rReading energy frame     16 time   16.000         \rReading energy frame     17 time   17.000         \rReading energy frame     18 time   18.000         \rReading energy frame     19 time   19.000         \rReading energy frame     20 time   20.000         \rReading energy frame     30 time   30.000         \rReading energy frame     40 time   40.000         \rReading energy frame     50 time   50.000         \rReading energy frame     60 time   60.000         \rReading energy frame     70 time   70.000         \rReading energy frame     80 time   80.000         \rReading energy frame     90 time   90.000         \rReading energy frame    100 time  100.000         \rLast energy frame read 100 time  100.000         \n",
            "\n",
            "Statistics over 50001 steps [ 0.0000 through 100.0000 ps ], 1 data sets\n",
            "All statistics are over 501 points\n",
            "\n",
            "Energy                      Average   Err.Est.       RMSD  Tot-Drift\n",
            "-------------------------------------------------------------------------------\n",
            "Pressure                    19.6009        9.3    581.217    37.8036  (bar)\n",
            "\n",
            "GROMACS reminds you: \"When It Starts to Start It'll Never Stop\" (Magnapop)\n",
            "\n"
          ]
        }
      ]
    },
    {
      "cell_type": "markdown",
      "source": [
        "# 8. Producción MD"
      ],
      "metadata": {
        "id": "XByOrooZoPWb"
      }
    },
    {
      "cell_type": "code",
      "source": [
        "!gmx grompp -f md.mdp -c npt.gro -t npt.cpt -p topol.top -o md_0_1.tpr"
      ],
      "metadata": {
        "colab": {
          "base_uri": "https://localhost:8080/"
        },
        "id": "ToTzuN8xm4Hd",
        "outputId": "812f8145-cdc0-4693-96b1-b4272fcffe9b"
      },
      "execution_count": 41,
      "outputs": [
        {
          "output_type": "stream",
          "name": "stdout",
          "text": [
            "              :-) GROMACS - gmx grompp, 2021.4-Ubuntu-2021.4-2 (-:\n",
            "\n",
            "                            GROMACS is written by:\n",
            "     Andrey Alekseenko              Emile Apol              Rossen Apostolov     \n",
            "         Paul Bauer           Herman J.C. Berendsen           Par Bjelkmar       \n",
            "       Christian Blau           Viacheslav Bolnykh             Kevin Boyd        \n",
            "     Aldert van Buuren           Rudi van Drunen             Anton Feenstra      \n",
            "    Gilles Gouaillardet             Alan Gray               Gerrit Groenhof      \n",
            "       Anca Hamuraru            Vincent Hindriksen          M. Eric Irrgang      \n",
            "      Aleksei Iupinov           Christoph Junghans             Joe Jordan        \n",
            "    Dimitrios Karkoulis            Peter Kasson                Jiri Kraus        \n",
            "      Carsten Kutzner              Per Larsson              Justin A. Lemkul     \n",
            "       Viveca Lindahl            Magnus Lundborg             Erik Marklund       \n",
            "        Pascal Merz             Pieter Meulenhoff            Teemu Murtola       \n",
            "        Szilard Pall               Sander Pronk              Roland Schulz       \n",
            "       Michael Shirts            Alexey Shvetsov             Alfons Sijbers      \n",
            "       Peter Tieleman              Jon Vincent              Teemu Virolainen     \n",
            "     Christian Wennberg            Maarten Wolf              Artem Zhmurov       \n",
            "                           and the project leaders:\n",
            "        Mark Abraham, Berk Hess, Erik Lindahl, and David van der Spoel\n",
            "\n",
            "Copyright (c) 1991-2000, University of Groningen, The Netherlands.\n",
            "Copyright (c) 2001-2019, The GROMACS development team at\n",
            "Uppsala University, Stockholm University and\n",
            "the Royal Institute of Technology, Sweden.\n",
            "check out http://www.gromacs.org for more information.\n",
            "\n",
            "GROMACS is free software; you can redistribute it and/or modify it\n",
            "under the terms of the GNU Lesser General Public License\n",
            "as published by the Free Software Foundation; either version 2.1\n",
            "of the License, or (at your option) any later version.\n",
            "\n",
            "GROMACS:      gmx grompp, version 2021.4-Ubuntu-2021.4-2\n",
            "Executable:   /usr/bin/gmx\n",
            "Data prefix:  /usr\n",
            "Working dir:  /content\n",
            "Command line:\n",
            "  gmx grompp -f md.mdp -c npt.gro -t npt.cpt -p topol.top -o md_0_1.tpr\n",
            "\n",
            "Ignoring obsolete mdp entry 'title'\n",
            "Ignoring obsolete mdp entry 'ns_type'\n",
            "Setting the LD random seed to -1621623821\n",
            "\n",
            "Generated 330891 of the 330891 non-bonded parameter combinations\n",
            "Generating 1-4 interactions: fudge = 0.5\n",
            "\n",
            "Generated 330891 of the 330891 1-4 parameter combinations\n",
            "\n",
            "Excluding 3 bonded neighbours molecule type 'Other'\n",
            "\n",
            "turning H bonds into constraints...\n",
            "\n",
            "Excluding 2 bonded neighbours molecule type 'SOL'\n",
            "\n",
            "turning H bonds into constraints...\n",
            "\n",
            "Cleaning up constraints and constant bonded interactions with virtual sites\n",
            "Analysing residue names:\n",
            "There are:     1      Other residues\n",
            "There are:   467      Water residues\n",
            "Analysing residues not classified as Protein/DNA/RNA/Water and splitting into groups...\n",
            "Number of degrees of freedom in T-Coupling group Other is 23.97\n",
            "Number of degrees of freedom in T-Coupling group SOL is 2799.03\n",
            "\n",
            "Determining Verlet buffer for a tolerance of 0.005 kJ/mol/ps at 300 K\n",
            "\n",
            "NOTE 1 [file md.mdp]:\n",
            "  There are 934 non-linear virtual site constructions. Their contribution\n",
            "  to the energy error is approximated. In most cases this does not affect\n",
            "  the error significantly.\n",
            "\n",
            "\n",
            "Calculated rlist for 1x1 atom pair-list as 1.035 nm, buffer size 0.035 nm\n",
            "\n",
            "Set rlist, assuming 4x4 atom pair-list, to 1.000 nm, buffer size 0.000 nm\n",
            "\n",
            "Note that mdrun will redetermine rlist based on the actual pair-list setup\n",
            "\n",
            "Reading Coordinates, Velocities and Box size from old trajectory\n",
            "\n",
            "Will read whole trajectory\n",
            "Last frame         -1 time  100.000   \n",
            "\n",
            "Using frame at t = 100 ps\n",
            "\n",
            "Starting time for run is 0 ps\n",
            "Calculating fourier grid dimensions for X Y Z\n",
            "Using a fourier grid of 16x16x16, spacing 0.151 0.151 0.151\n",
            "\n",
            "Estimate for the relative computational load of the PME mesh part: 0.09\n",
            "\n",
            "This run will generate roughly 2 Mb of data\n",
            "\n",
            "There was 1 note\n",
            "\n",
            "GROMACS reminds you: \"There is no such thing as free energy. Anyone who advocates it does not know what he is talking about.\" (Alireza Haghighat)\n",
            "\n"
          ]
        }
      ]
    },
    {
      "cell_type": "code",
      "source": [
        "!gmx mdrun -v -deffnm md_0_1"
      ],
      "metadata": {
        "colab": {
          "base_uri": "https://localhost:8080/"
        },
        "id": "aZrhnx7QocXc",
        "outputId": "ead55998-8c81-4e3f-e728-9825aee42943"
      },
      "execution_count": 43,
      "outputs": [
        {
          "output_type": "stream",
          "name": "stdout",
          "text": [
            "              :-) GROMACS - gmx mdrun, 2021.4-Ubuntu-2021.4-2 (-:\n",
            "\n",
            "                            GROMACS is written by:\n",
            "     Andrey Alekseenko              Emile Apol              Rossen Apostolov     \n",
            "         Paul Bauer           Herman J.C. Berendsen           Par Bjelkmar       \n",
            "       Christian Blau           Viacheslav Bolnykh             Kevin Boyd        \n",
            "     Aldert van Buuren           Rudi van Drunen             Anton Feenstra      \n",
            "    Gilles Gouaillardet             Alan Gray               Gerrit Groenhof      \n",
            "       Anca Hamuraru            Vincent Hindriksen          M. Eric Irrgang      \n",
            "      Aleksei Iupinov           Christoph Junghans             Joe Jordan        \n",
            "    Dimitrios Karkoulis            Peter Kasson                Jiri Kraus        \n",
            "      Carsten Kutzner              Per Larsson              Justin A. Lemkul     \n",
            "       Viveca Lindahl            Magnus Lundborg             Erik Marklund       \n",
            "        Pascal Merz             Pieter Meulenhoff            Teemu Murtola       \n",
            "        Szilard Pall               Sander Pronk              Roland Schulz       \n",
            "       Michael Shirts            Alexey Shvetsov             Alfons Sijbers      \n",
            "       Peter Tieleman              Jon Vincent              Teemu Virolainen     \n",
            "     Christian Wennberg            Maarten Wolf              Artem Zhmurov       \n",
            "                           and the project leaders:\n",
            "        Mark Abraham, Berk Hess, Erik Lindahl, and David van der Spoel\n",
            "\n",
            "Copyright (c) 1991-2000, University of Groningen, The Netherlands.\n",
            "Copyright (c) 2001-2019, The GROMACS development team at\n",
            "Uppsala University, Stockholm University and\n",
            "the Royal Institute of Technology, Sweden.\n",
            "check out http://www.gromacs.org for more information.\n",
            "\n",
            "GROMACS is free software; you can redistribute it and/or modify it\n",
            "under the terms of the GNU Lesser General Public License\n",
            "as published by the Free Software Foundation; either version 2.1\n",
            "of the License, or (at your option) any later version.\n",
            "\n",
            "GROMACS:      gmx mdrun, version 2021.4-Ubuntu-2021.4-2\n",
            "Executable:   /usr/bin/gmx\n",
            "Data prefix:  /usr\n",
            "Working dir:  /content\n",
            "Command line:\n",
            "  gmx mdrun -v -deffnm md_0_1\n",
            "\n",
            "\n",
            "Back Off! I just backed up md_0_1.log to ./#md_0_1.log.1#\n",
            "Compiled SIMD: SSE4.1, but for this host/run AVX2_256 might be better (see\n",
            "log).\n",
            "Reading file md_0_1.tpr, VERSION 2021.4-Ubuntu-2021.4-2 (single precision)\n",
            "Changing nstlist from 10 to 25, rlist from 1 to 1.045\n",
            "\n",
            "Using 1 MPI thread\n",
            "Using 2 OpenMP threads \n",
            "\n",
            "\n",
            "Back Off! I just backed up md_0_1.xtc to ./#md_0_1.xtc.1#\n",
            "\n",
            "Back Off! I just backed up md_0_1.edr to ./#md_0_1.edr.1#\n",
            "starting mdrun 'DMSO in water'\n",
            "500000 steps,   1000.0 ps.\n",
            "step 499900, remaining wall clock time:     0 s          \n",
            "Writing final coordinates.\n",
            "\n",
            "Back Off! I just backed up md_0_1.gro to ./#md_0_1.gro.1#\n",
            "step 500000, remaining wall clock time:     0 s          \n",
            "               Core t (s)   Wall t (s)        (%)\n",
            "       Time:     5608.788     2804.394      200.0\n",
            "                         46:44\n",
            "                 (ns/day)    (hour/ns)\n",
            "Performance:       30.809        0.779\n",
            "\n",
            "GROMACS reminds you: \"Check Your Input\" (D. Van Der Spoel)\n",
            "\n"
          ]
        }
      ]
    },
    {
      "cell_type": "markdown",
      "source": [
        "# 9. Análisis"
      ],
      "metadata": {
        "id": "-WVMaeZEo_MS"
      }
    },
    {
      "cell_type": "markdown",
      "source": [
        "## 9.1 Trayectoria (video de la simulación)"
      ],
      "metadata": {
        "id": "KLuNzRGypSI4"
      }
    },
    {
      "cell_type": "code",
      "source": [
        "!printf \"2 0\" | gmx trjconv -s md_0_1.tpr -f md_0_1.xtc -o md_0_1_noPBC.xtc -pbc mol -center"
      ],
      "metadata": {
        "colab": {
          "base_uri": "https://localhost:8080/"
        },
        "id": "I4ZNnqp2ocU3",
        "outputId": "5eb5aceb-49bb-495a-9c67-8e10e660af5e"
      },
      "execution_count": 44,
      "outputs": [
        {
          "output_type": "stream",
          "name": "stdout",
          "text": [
            "             :-) GROMACS - gmx trjconv, 2021.4-Ubuntu-2021.4-2 (-:\n",
            "\n",
            "                            GROMACS is written by:\n",
            "     Andrey Alekseenko              Emile Apol              Rossen Apostolov     \n",
            "         Paul Bauer           Herman J.C. Berendsen           Par Bjelkmar       \n",
            "       Christian Blau           Viacheslav Bolnykh             Kevin Boyd        \n",
            "     Aldert van Buuren           Rudi van Drunen             Anton Feenstra      \n",
            "    Gilles Gouaillardet             Alan Gray               Gerrit Groenhof      \n",
            "       Anca Hamuraru            Vincent Hindriksen          M. Eric Irrgang      \n",
            "      Aleksei Iupinov           Christoph Junghans             Joe Jordan        \n",
            "    Dimitrios Karkoulis            Peter Kasson                Jiri Kraus        \n",
            "      Carsten Kutzner              Per Larsson              Justin A. Lemkul     \n",
            "       Viveca Lindahl            Magnus Lundborg             Erik Marklund       \n",
            "        Pascal Merz             Pieter Meulenhoff            Teemu Murtola       \n",
            "        Szilard Pall               Sander Pronk              Roland Schulz       \n",
            "       Michael Shirts            Alexey Shvetsov             Alfons Sijbers      \n",
            "       Peter Tieleman              Jon Vincent              Teemu Virolainen     \n",
            "     Christian Wennberg            Maarten Wolf              Artem Zhmurov       \n",
            "                           and the project leaders:\n",
            "        Mark Abraham, Berk Hess, Erik Lindahl, and David van der Spoel\n",
            "\n",
            "Copyright (c) 1991-2000, University of Groningen, The Netherlands.\n",
            "Copyright (c) 2001-2019, The GROMACS development team at\n",
            "Uppsala University, Stockholm University and\n",
            "the Royal Institute of Technology, Sweden.\n",
            "check out http://www.gromacs.org for more information.\n",
            "\n",
            "GROMACS is free software; you can redistribute it and/or modify it\n",
            "under the terms of the GNU Lesser General Public License\n",
            "as published by the Free Software Foundation; either version 2.1\n",
            "of the License, or (at your option) any later version.\n",
            "\n",
            "GROMACS:      gmx trjconv, version 2021.4-Ubuntu-2021.4-2\n",
            "Executable:   /usr/bin/gmx\n",
            "Data prefix:  /usr\n",
            "Working dir:  /content\n",
            "Command line:\n",
            "  gmx trjconv -s md_0_1.tpr -f md_0_1.xtc -o md_0_1_noPBC.xtc -pbc mol -center\n",
            "\n",
            "Note that major changes are planned in future for trjconv, to improve usability and utility.\n",
            "Will write xtc: Compressed trajectory (portable xdr format): xtc\n",
            "Reading file md_0_1.tpr, VERSION 2021.4-Ubuntu-2021.4-2 (single precision)\n",
            "Reading file md_0_1.tpr, VERSION 2021.4-Ubuntu-2021.4-2 (single precision)\n",
            "Select group for centering\n",
            "Group     0 (         System) has  2345 elements\n",
            "Group     1 (          Other) has    10 elements\n",
            "Group     2 (           DMSO) has    10 elements\n",
            "Group     3 (          Water) has  2335 elements\n",
            "Group     4 (            SOL) has  2335 elements\n",
            "Group     5 (      non-Water) has    10 elements\n",
            "Select a group: Selected 2: 'DMSO'\n",
            "Select group for output\n",
            "Group     0 (         System) has  2345 elements\n",
            "Group     1 (          Other) has    10 elements\n",
            "Group     2 (           DMSO) has    10 elements\n",
            "Group     3 (          Water) has  2335 elements\n",
            "Group     4 (            SOL) has  2335 elements\n",
            "Group     5 (      non-Water) has    10 elements\n",
            "Select a group: Selected 0: 'System'\n",
            "\rReading frame       0 time    0.000   \n",
            "Precision of md_0_1.xtc is 0.001 (nm)\n",
            "Using output precision of 0.001 (nm)\n",
            " ->  frame      0 time    0.000      \r\rReading frame       1 time   10.000    ->  frame      1 time   10.000      \r\rReading frame       2 time   20.000    ->  frame      2 time   20.000      \r\rReading frame       3 time   30.000    ->  frame      3 time   30.000      \r\rReading frame       4 time   40.000    ->  frame      4 time   40.000      \r\rReading frame       5 time   50.000    ->  frame      5 time   50.000      \r\rReading frame       6 time   60.000    ->  frame      6 time   60.000      \r\rReading frame       7 time   70.000    ->  frame      7 time   70.000      \r\rReading frame       8 time   80.000    ->  frame      8 time   80.000      \r\rReading frame       9 time   90.000    ->  frame      9 time   90.000      \r\rReading frame      10 time  100.000    ->  frame     10 time  100.000      \r\rReading frame      11 time  110.000   \rReading frame      12 time  120.000   \rReading frame      13 time  130.000   \rReading frame      14 time  140.000   \rReading frame      15 time  150.000   \rReading frame      16 time  160.000   \rReading frame      17 time  170.000   \rReading frame      18 time  180.000   \rReading frame      19 time  190.000   \rReading frame      20 time  200.000    ->  frame     20 time  200.000      \r\rReading frame      30 time  300.000    ->  frame     30 time  300.000      \r\rReading frame      40 time  400.000    ->  frame     40 time  400.000      \r\rReading frame      50 time  500.000    ->  frame     50 time  500.000      \r\rReading frame      60 time  600.000    ->  frame     60 time  600.000      \r\rReading frame      70 time  700.000    ->  frame     70 time  700.000      \r\rReading frame      80 time  800.000    ->  frame     80 time  800.000      \r\rReading frame      90 time  900.000    ->  frame     90 time  900.000      \r\rReading frame     100 time 1000.000    ->  frame    100 time 1000.000      \r\rLast frame        100 time 1000.000   \n",
            "\n",
            "\n",
            "GROMACS reminds you: \"With a Lead Filled Snowshoe\" (F. Zappa)\n",
            "\n"
          ]
        }
      ]
    },
    {
      "cell_type": "markdown",
      "source": [
        "El archivo md_0_1_noPBC.xtc contiene los frames de la trayectoria y puede ser abierto con visualizadores como PyMol, VMD, Chimera, etc."
      ],
      "metadata": {
        "id": "lAFfTUOUtYdI"
      }
    },
    {
      "cell_type": "markdown",
      "source": [
        "## 9.2 RMSD"
      ],
      "metadata": {
        "id": "44-Dqr9Cpd_C"
      }
    },
    {
      "cell_type": "code",
      "source": [
        "!printf \"2 0\" | gmx rms -s md_0_1.tpr -f md_0_1_noPBC.xtc -o rmsd.xvg -tu ns\n",
        "# !xmgrace rmsd.xvg"
      ],
      "metadata": {
        "colab": {
          "base_uri": "https://localhost:8080/"
        },
        "id": "wVUDvoMjpQBD",
        "outputId": "decd0aa2-774b-4cc5-a91a-e0834f995236"
      },
      "execution_count": 45,
      "outputs": [
        {
          "output_type": "stream",
          "name": "stdout",
          "text": [
            "               :-) GROMACS - gmx rms, 2021.4-Ubuntu-2021.4-2 (-:\n",
            "\n",
            "                            GROMACS is written by:\n",
            "     Andrey Alekseenko              Emile Apol              Rossen Apostolov     \n",
            "         Paul Bauer           Herman J.C. Berendsen           Par Bjelkmar       \n",
            "       Christian Blau           Viacheslav Bolnykh             Kevin Boyd        \n",
            "     Aldert van Buuren           Rudi van Drunen             Anton Feenstra      \n",
            "    Gilles Gouaillardet             Alan Gray               Gerrit Groenhof      \n",
            "       Anca Hamuraru            Vincent Hindriksen          M. Eric Irrgang      \n",
            "      Aleksei Iupinov           Christoph Junghans             Joe Jordan        \n",
            "    Dimitrios Karkoulis            Peter Kasson                Jiri Kraus        \n",
            "      Carsten Kutzner              Per Larsson              Justin A. Lemkul     \n",
            "       Viveca Lindahl            Magnus Lundborg             Erik Marklund       \n",
            "        Pascal Merz             Pieter Meulenhoff            Teemu Murtola       \n",
            "        Szilard Pall               Sander Pronk              Roland Schulz       \n",
            "       Michael Shirts            Alexey Shvetsov             Alfons Sijbers      \n",
            "       Peter Tieleman              Jon Vincent              Teemu Virolainen     \n",
            "     Christian Wennberg            Maarten Wolf              Artem Zhmurov       \n",
            "                           and the project leaders:\n",
            "        Mark Abraham, Berk Hess, Erik Lindahl, and David van der Spoel\n",
            "\n",
            "Copyright (c) 1991-2000, University of Groningen, The Netherlands.\n",
            "Copyright (c) 2001-2019, The GROMACS development team at\n",
            "Uppsala University, Stockholm University and\n",
            "the Royal Institute of Technology, Sweden.\n",
            "check out http://www.gromacs.org for more information.\n",
            "\n",
            "GROMACS is free software; you can redistribute it and/or modify it\n",
            "under the terms of the GNU Lesser General Public License\n",
            "as published by the Free Software Foundation; either version 2.1\n",
            "of the License, or (at your option) any later version.\n",
            "\n",
            "GROMACS:      gmx rms, version 2021.4-Ubuntu-2021.4-2\n",
            "Executable:   /usr/bin/gmx\n",
            "Data prefix:  /usr\n",
            "Working dir:  /content\n",
            "Command line:\n",
            "  gmx rms -s md_0_1.tpr -f md_0_1_noPBC.xtc -o rmsd.xvg -tu ns\n",
            "\n",
            "Reading file md_0_1.tpr, VERSION 2021.4-Ubuntu-2021.4-2 (single precision)\n",
            "Reading file md_0_1.tpr, VERSION 2021.4-Ubuntu-2021.4-2 (single precision)\n",
            "Select group for least squares fit\n",
            "Group     0 (         System) has  2345 elements\n",
            "Group     1 (          Other) has    10 elements\n",
            "Group     2 (           DMSO) has    10 elements\n",
            "Group     3 (          Water) has  2335 elements\n",
            "Group     4 (            SOL) has  2335 elements\n",
            "Group     5 (      non-Water) has    10 elements\n",
            "Select a group: Selected 2: 'DMSO'\n",
            "Select group for RMSD calculation\n",
            "Group     0 (         System) has  2345 elements\n",
            "Group     1 (          Other) has    10 elements\n",
            "Group     2 (           DMSO) has    10 elements\n",
            "Group     3 (          Water) has  2335 elements\n",
            "Group     4 (            SOL) has  2335 elements\n",
            "Group     5 (      non-Water) has    10 elements\n",
            "Select a group: Selected 0: 'System'\n",
            "\rReading frame       0 time    0.000   \rReading frame       1 time    0.010   \rReading frame       2 time    0.020   \rReading frame       3 time    0.030   \rReading frame       4 time    0.040   \rReading frame       5 time    0.050   \rReading frame       6 time    0.060   \rReading frame       7 time    0.070   \rReading frame       8 time    0.080   \rReading frame       9 time    0.090   \rReading frame      10 time    0.100   \rReading frame      11 time    0.110   \rReading frame      12 time    0.120   \rReading frame      13 time    0.130   \rReading frame      14 time    0.140   \rReading frame      15 time    0.150   \rReading frame      16 time    0.160   \rReading frame      17 time    0.170   \rReading frame      18 time    0.180   \rReading frame      19 time    0.190   \rReading frame      20 time    0.200   \rReading frame      30 time    0.300   \rReading frame      40 time    0.400   \rReading frame      50 time    0.500   \rReading frame      60 time    0.600   \rReading frame      70 time    0.700   \rReading frame      80 time    0.800   \rReading frame      90 time    0.900   \rReading frame     100 time    1.000   \rLast frame        100 time    1.000   \n",
            "\n",
            "GROMACS reminds you: \"They don't have any beavers in India, so they have to simulate them\" (The Tubes)\n",
            "\n"
          ]
        }
      ]
    },
    {
      "cell_type": "code",
      "source": [
        "!printf \"2 0\" | gmx rms -s em.tpr -f md_0_1_noPBC.xtc -o rmsd_xtal.xvg -tu ns\n",
        "# !rmsd_xtal.xvg"
      ],
      "metadata": {
        "colab": {
          "base_uri": "https://localhost:8080/"
        },
        "id": "5DZDJt1VpP-j",
        "outputId": "7a05a041-eb72-43b5-88da-88bc00de2a62"
      },
      "execution_count": 46,
      "outputs": [
        {
          "output_type": "stream",
          "name": "stdout",
          "text": [
            "               :-) GROMACS - gmx rms, 2021.4-Ubuntu-2021.4-2 (-:\n",
            "\n",
            "                            GROMACS is written by:\n",
            "     Andrey Alekseenko              Emile Apol              Rossen Apostolov     \n",
            "         Paul Bauer           Herman J.C. Berendsen           Par Bjelkmar       \n",
            "       Christian Blau           Viacheslav Bolnykh             Kevin Boyd        \n",
            "     Aldert van Buuren           Rudi van Drunen             Anton Feenstra      \n",
            "    Gilles Gouaillardet             Alan Gray               Gerrit Groenhof      \n",
            "       Anca Hamuraru            Vincent Hindriksen          M. Eric Irrgang      \n",
            "      Aleksei Iupinov           Christoph Junghans             Joe Jordan        \n",
            "    Dimitrios Karkoulis            Peter Kasson                Jiri Kraus        \n",
            "      Carsten Kutzner              Per Larsson              Justin A. Lemkul     \n",
            "       Viveca Lindahl            Magnus Lundborg             Erik Marklund       \n",
            "        Pascal Merz             Pieter Meulenhoff            Teemu Murtola       \n",
            "        Szilard Pall               Sander Pronk              Roland Schulz       \n",
            "       Michael Shirts            Alexey Shvetsov             Alfons Sijbers      \n",
            "       Peter Tieleman              Jon Vincent              Teemu Virolainen     \n",
            "     Christian Wennberg            Maarten Wolf              Artem Zhmurov       \n",
            "                           and the project leaders:\n",
            "        Mark Abraham, Berk Hess, Erik Lindahl, and David van der Spoel\n",
            "\n",
            "Copyright (c) 1991-2000, University of Groningen, The Netherlands.\n",
            "Copyright (c) 2001-2019, The GROMACS development team at\n",
            "Uppsala University, Stockholm University and\n",
            "the Royal Institute of Technology, Sweden.\n",
            "check out http://www.gromacs.org for more information.\n",
            "\n",
            "GROMACS is free software; you can redistribute it and/or modify it\n",
            "under the terms of the GNU Lesser General Public License\n",
            "as published by the Free Software Foundation; either version 2.1\n",
            "of the License, or (at your option) any later version.\n",
            "\n",
            "GROMACS:      gmx rms, version 2021.4-Ubuntu-2021.4-2\n",
            "Executable:   /usr/bin/gmx\n",
            "Data prefix:  /usr\n",
            "Working dir:  /content\n",
            "Command line:\n",
            "  gmx rms -s em.tpr -f md_0_1_noPBC.xtc -o rmsd_xtal.xvg -tu ns\n",
            "\n",
            "Reading file em.tpr, VERSION 2021.4-Ubuntu-2021.4-2 (single precision)\n",
            "Reading file em.tpr, VERSION 2021.4-Ubuntu-2021.4-2 (single precision)\n",
            "Select group for least squares fit\n",
            "Group     0 (         System) has  2345 elements\n",
            "Group     1 (          Other) has    10 elements\n",
            "Group     2 (           DMSO) has    10 elements\n",
            "Group     3 (          Water) has  2335 elements\n",
            "Group     4 (            SOL) has  2335 elements\n",
            "Group     5 (      non-Water) has    10 elements\n",
            "Select a group: Selected 2: 'DMSO'\n",
            "Select group for RMSD calculation\n",
            "Group     0 (         System) has  2345 elements\n",
            "Group     1 (          Other) has    10 elements\n",
            "Group     2 (           DMSO) has    10 elements\n",
            "Group     3 (          Water) has  2335 elements\n",
            "Group     4 (            SOL) has  2335 elements\n",
            "Group     5 (      non-Water) has    10 elements\n",
            "Select a group: Selected 0: 'System'\n",
            "\rReading frame       0 time    0.000   \rReading frame       1 time    0.010   \rReading frame       2 time    0.020   \rReading frame       3 time    0.030   \rReading frame       4 time    0.040   \rReading frame       5 time    0.050   \rReading frame       6 time    0.060   \rReading frame       7 time    0.070   \rReading frame       8 time    0.080   \rReading frame       9 time    0.090   \rReading frame      10 time    0.100   \rReading frame      11 time    0.110   \rReading frame      12 time    0.120   \rReading frame      13 time    0.130   \rReading frame      14 time    0.140   \rReading frame      15 time    0.150   \rReading frame      16 time    0.160   \rReading frame      17 time    0.170   \rReading frame      18 time    0.180   \rReading frame      19 time    0.190   \rReading frame      20 time    0.200   \rReading frame      30 time    0.300   \rReading frame      40 time    0.400   \rReading frame      50 time    0.500   \rReading frame      60 time    0.600   \rReading frame      70 time    0.700   \rReading frame      80 time    0.800   \rReading frame      90 time    0.900   \rReading frame     100 time    1.000   \rLast frame        100 time    1.000   \n",
            "\n",
            "GROMACS reminds you: \"Always code as if the person who ends up maintaining your code is a violent psychopath who knows where you live.\" (Martin Golding)\n",
            "\n"
          ]
        }
      ]
    },
    {
      "cell_type": "markdown",
      "source": [
        "## 9.3 Radio de Giro"
      ],
      "metadata": {
        "id": "aKVjLMHrp8e3"
      }
    },
    {
      "cell_type": "code",
      "source": [
        "!printf \"2 0\" | gmx gyrate -s md_0_1.tpr -f md_0_1_noPBC.xtc -o gyrate.xvg\n",
        "# !xmgrace gyrate.xvg"
      ],
      "metadata": {
        "colab": {
          "base_uri": "https://localhost:8080/"
        },
        "id": "iHWJ_cUep2sO",
        "outputId": "d5b0eadf-7e65-4ece-ae3b-03b411bd9514"
      },
      "execution_count": 48,
      "outputs": [
        {
          "output_type": "stream",
          "name": "stdout",
          "text": [
            "              :-) GROMACS - gmx gyrate, 2021.4-Ubuntu-2021.4-2 (-:\n",
            "\n",
            "                            GROMACS is written by:\n",
            "     Andrey Alekseenko              Emile Apol              Rossen Apostolov     \n",
            "         Paul Bauer           Herman J.C. Berendsen           Par Bjelkmar       \n",
            "       Christian Blau           Viacheslav Bolnykh             Kevin Boyd        \n",
            "     Aldert van Buuren           Rudi van Drunen             Anton Feenstra      \n",
            "    Gilles Gouaillardet             Alan Gray               Gerrit Groenhof      \n",
            "       Anca Hamuraru            Vincent Hindriksen          M. Eric Irrgang      \n",
            "      Aleksei Iupinov           Christoph Junghans             Joe Jordan        \n",
            "    Dimitrios Karkoulis            Peter Kasson                Jiri Kraus        \n",
            "      Carsten Kutzner              Per Larsson              Justin A. Lemkul     \n",
            "       Viveca Lindahl            Magnus Lundborg             Erik Marklund       \n",
            "        Pascal Merz             Pieter Meulenhoff            Teemu Murtola       \n",
            "        Szilard Pall               Sander Pronk              Roland Schulz       \n",
            "       Michael Shirts            Alexey Shvetsov             Alfons Sijbers      \n",
            "       Peter Tieleman              Jon Vincent              Teemu Virolainen     \n",
            "     Christian Wennberg            Maarten Wolf              Artem Zhmurov       \n",
            "                           and the project leaders:\n",
            "        Mark Abraham, Berk Hess, Erik Lindahl, and David van der Spoel\n",
            "\n",
            "Copyright (c) 1991-2000, University of Groningen, The Netherlands.\n",
            "Copyright (c) 2001-2019, The GROMACS development team at\n",
            "Uppsala University, Stockholm University and\n",
            "the Royal Institute of Technology, Sweden.\n",
            "check out http://www.gromacs.org for more information.\n",
            "\n",
            "GROMACS is free software; you can redistribute it and/or modify it\n",
            "under the terms of the GNU Lesser General Public License\n",
            "as published by the Free Software Foundation; either version 2.1\n",
            "of the License, or (at your option) any later version.\n",
            "\n",
            "GROMACS:      gmx gyrate, version 2021.4-Ubuntu-2021.4-2\n",
            "Executable:   /usr/bin/gmx\n",
            "Data prefix:  /usr\n",
            "Working dir:  /content\n",
            "Command line:\n",
            "  gmx gyrate -s md_0_1.tpr -f md_0_1_noPBC.xtc -o gyrate.xvg\n",
            "\n",
            "Reading file md_0_1.tpr, VERSION 2021.4-Ubuntu-2021.4-2 (single precision)\n",
            "Reading file md_0_1.tpr, VERSION 2021.4-Ubuntu-2021.4-2 (single precision)\n",
            "Group     0 (         System) has  2345 elements\n",
            "Group     1 (          Other) has    10 elements\n",
            "Group     2 (           DMSO) has    10 elements\n",
            "Group     3 (          Water) has  2335 elements\n",
            "Group     4 (            SOL) has  2335 elements\n",
            "Group     5 (      non-Water) has    10 elements\n",
            "Select a group: Selected 2: 'DMSO'\n",
            "\rReading frame       0 time    0.000   \rReading frame       1 time   10.000   \rReading frame       2 time   20.000   \rReading frame       3 time   30.000   \rReading frame       4 time   40.000   \rReading frame       5 time   50.000   \rReading frame       6 time   60.000   \rReading frame       7 time   70.000   \rReading frame       8 time   80.000   \rReading frame       9 time   90.000   \rReading frame      10 time  100.000   \rReading frame      11 time  110.000   \rReading frame      12 time  120.000   \rReading frame      13 time  130.000   \rReading frame      14 time  140.000   \rReading frame      15 time  150.000   \rReading frame      16 time  160.000   \rReading frame      17 time  170.000   \rReading frame      18 time  180.000   \rReading frame      19 time  190.000   \rReading frame      20 time  200.000   \rReading frame      30 time  300.000   \rReading frame      40 time  400.000   \rReading frame      50 time  500.000   \rReading frame      60 time  600.000   \rReading frame      70 time  700.000   \rReading frame      80 time  800.000   \rReading frame      90 time  900.000   \rReading frame     100 time 1000.000   \rLast frame        100 time 1000.000   \n",
            "\n",
            "GROMACS reminds you: \"Your assumptions are your windows on the world. Scrub them off every once in a while, or the light won't come in.\" (Isaac Asimov)\n",
            "\n"
          ]
        }
      ]
    },
    {
      "cell_type": "code",
      "source": [
        "!mkdir resultados"
      ],
      "metadata": {
        "id": "LV1zU1BB_gQx"
      },
      "execution_count": 50,
      "outputs": []
    },
    {
      "cell_type": "code",
      "source": [
        "!cp dmso* /content/resultados\n",
        "!cp em* /content/resultados\n",
        "!cp i* /content/resultados\n",
        "!cp gyrate* /content/resultados\n",
        "!cp m* /content/resultados\n",
        "!cp p* /content/resultados\n",
        "!cp rmsd* /content/resultados\n",
        "!cp s* /content/resultados\n",
        "!cp t* /content/resultados"
      ],
      "metadata": {
        "colab": {
          "base_uri": "https://localhost:8080/"
        },
        "id": "XEr52D_b_vey",
        "outputId": "bf094244-99fb-4306-a18f-f96fab5ddb78"
      },
      "execution_count": 51,
      "outputs": [
        {
          "output_type": "stream",
          "name": "stdout",
          "text": [
            "cp: -r not specified; omitting directory 'sample_data'\n"
          ]
        }
      ]
    },
    {
      "cell_type": "code",
      "source": [
        "!ls /content/resultados"
      ],
      "metadata": {
        "colab": {
          "base_uri": "https://localhost:8080/"
        },
        "id": "zN2O8vheAtxG",
        "outputId": "e72ee113-a5f1-4ebd-a45a-35f611289d42"
      },
      "execution_count": 52,
      "outputs": [
        {
          "output_type": "stream",
          "name": "stdout",
          "text": [
            "dmso.gro  em.trr      md_0_1.cpt\tmd_0_1_prev.cpt  minim.mdp\trmsd.xvg\n",
            "em.edr\t  gyrate.xvg  md_0_1.edr\tmd_0_1.tpr\t posre.itp\tsolv.gro\n",
            "em.gro\t  index.ndx   md_0_1.gro\tmd_0_1.xtc\t potential.xvg\tsolv_ions.gro\n",
            "em.log\t  ions.mdp    md_0_1.log\tmd.mdp\t\t pressure.xvg\ttemperature.xvg\n",
            "em.tpr\t  ions.tpr    md_0_1_noPBC.xtc\tmdout.mdp\t rmsd_xtal.xvg\ttopol.top\n"
          ]
        }
      ]
    },
    {
      "cell_type": "code",
      "source": [
        "!zip -r resultados.zip /content/resultados"
      ],
      "metadata": {
        "colab": {
          "base_uri": "https://localhost:8080/"
        },
        "id": "HtRgAg4tA5aD",
        "outputId": "e310e5a9-5933-4032-edbe-ddfe4824c0af"
      },
      "execution_count": 54,
      "outputs": [
        {
          "output_type": "stream",
          "name": "stdout",
          "text": [
            "  adding: content/resultados/ (stored 0%)\n",
            "  adding: content/resultados/md.mdp (deflated 61%)\n",
            "  adding: content/resultados/topol.top (deflated 71%)\n",
            "  adding: content/resultados/pressure.xvg (deflated 58%)\n",
            "  adding: content/resultados/md_0_1.cpt (deflated 9%)\n",
            "  adding: content/resultados/md_0_1.edr (deflated 23%)\n",
            "  adding: content/resultados/ions.mdp (deflated 53%)\n",
            "  adding: content/resultados/em.log (deflated 78%)\n",
            "  adding: content/resultados/potential.xvg (deflated 59%)\n",
            "  adding: content/resultados/md_0_1_prev.cpt (deflated 9%)\n",
            "  adding: content/resultados/md_0_1.gro (deflated 68%)\n",
            "  adding: content/resultados/mdout.mdp (deflated 62%)\n",
            "  adding: content/resultados/rmsd_xtal.xvg (deflated 65%)\n",
            "  adding: content/resultados/index.ndx (deflated 87%)\n",
            "  adding: content/resultados/em.tpr (deflated 71%)\n",
            "  adding: content/resultados/md_0_1.log (deflated 80%)\n",
            "  adding: content/resultados/md_0_1_noPBC.xtc (deflated 0%)\n",
            "  adding: content/resultados/minim.mdp (deflated 52%)\n",
            "  adding: content/resultados/dmso.gro (deflated 63%)\n",
            "  adding: content/resultados/md_0_1.tpr (deflated 29%)\n",
            "  adding: content/resultados/posre.itp (deflated 49%)\n",
            "  adding: content/resultados/ions.tpr (deflated 71%)\n",
            "  adding: content/resultados/em.edr (deflated 41%)\n",
            "  adding: content/resultados/solv_ions.gro (deflated 73%)\n",
            "  adding: content/resultados/rmsd.xvg (deflated 65%)\n",
            "  adding: content/resultados/temperature.xvg (deflated 61%)\n",
            "  adding: content/resultados/md_0_1.xtc (deflated 0%)\n",
            "  adding: content/resultados/gyrate.xvg (deflated 68%)\n",
            "  adding: content/resultados/em.gro (deflated 73%)\n",
            "  adding: content/resultados/em.trr (deflated 10%)\n",
            "  adding: content/resultados/solv.gro (deflated 73%)\n"
          ]
        }
      ]
    }
  ]
}